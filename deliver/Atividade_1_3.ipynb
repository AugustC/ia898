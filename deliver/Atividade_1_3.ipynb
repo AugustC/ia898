{
 "cells": [
  {
   "cell_type": "markdown",
   "metadata": {
    "toc": "true"
   },
   "source": [
    "# Table of Contents\n",
    " <p><div class=\"lev1 toc-item\"><a href=\"#Meus-primeiros-programas-de-processamento-de-imagens-usando-Numpy\" data-toc-modified-id=\"Meus-primeiros-programas-de-processamento-de-imagens-usando-Numpy-1\"><span class=\"toc-item-num\">1&nbsp;&nbsp;</span>Meus primeiros programas de processamento de imagens usando Numpy</a></div><div class=\"lev2 toc-item\"><a href=\"#Aprendendo-a-programar-usando-o-NumPy\" data-toc-modified-id=\"Aprendendo-a-programar-usando-o-NumPy-11\"><span class=\"toc-item-num\">1.1&nbsp;&nbsp;</span>Aprendendo a programar usando o NumPy</a></div><div class=\"lev2 toc-item\"><a href=\"#Exercitando-com-o-NumPy\" data-toc-modified-id=\"Exercitando-com-o-NumPy-12\"><span class=\"toc-item-num\">1.2&nbsp;&nbsp;</span>Exercitando com o NumPy</a></div><div class=\"lev2 toc-item\"><a href=\"#Programas-para-correção-automática\" data-toc-modified-id=\"Programas-para-correção-automática-13\"><span class=\"toc-item-num\">1.3&nbsp;&nbsp;</span>Programas para correção automática</a></div>"
   ]
  },
  {
   "cell_type": "markdown",
   "metadata": {},
   "source": [
    "# Meus primeiros programas de processamento de imagens usando Numpy\n",
    "\n",
    "Neste curso iremos explorar o pacote NumPy, que adicionou o tipo **ndarray** ao Python. Contrário a \n",
    "utilizar um pacote ou biblioteca específica de processamento de imagens, onde a imagem é uma classe\n",
    "específica, onde as funções são primordialmente utilizadas para processamento de imagens, iremos\n",
    "utilizar o ndarray do NumPy para representar nossa imagem.\n",
    "\n",
    "Neste curso, iremos praticar a programação do estilo matricial, isto é, procurando resolver o problema\n",
    "de forma matricial. Pretendemos com isto mostrar que este estilo de programação ajuda a reutilizar\n",
    "operações e manipulações matriciais conhecidas, aumenta a clareza do código, diminuindo o número de\n",
    "linhas e favorece a eficiência de execução visto a disponibilidade cada vez maior de hardware \n",
    "que processa operações vetoriais."
   ]
  },
  {
   "cell_type": "markdown",
   "metadata": {},
   "source": [
    "## Aprendendo a programar usando o NumPy\n",
    "\n",
    "Existem importantes conceitos e funções a serem aprendidas no NumPy e serão introduzidas aos poucos à medida\n",
    "que o curso evolui. Nesta semana, o foco é o uso de fatiamento. Para isto, são necessárias algumas leituras\n",
    "fundamentais:\n",
    "\n",
    "- [Organização do ndarray](../master/tutorial_numpy_1_1.ipynb)\n",
    "- [Representação, Leitura e Visualização de Imagens](../master/tutorial_img_ds.ipynb)\n",
    "- [Fatiamento 1D do ndarray](../master/tutorial_numpy_1_2.ipynb) \n",
    "- [Fatiamento 2D do ndarray](../master/tutorial_numpy_1_3.ipynb) \n",
    "- [Cópia rasa e cópia profunda do ndarray](../master/tutorial_numpy_1_4.ipynb) \n",
    "- [Operações matriciais](../master/tutorial_numpy_1_5.ipynb)\n",
    "- [Processamento de imagens usando fatiamento do Numpy](../master/tutorial_1_imagens.ipynb)"
   ]
  },
  {
   "cell_type": "markdown",
   "metadata": {},
   "source": [
    "## Exercitando com o NumPy\n",
    "\n",
    "Nas leituras acima, sempre é possível olhar como foi feito o programa ilustrativo dos exemplos colocando\n",
    "a página dos tutoriais no modo *edição*. Se você ficou com dúvida em algum exemplo, você pode copiá-lo para\n",
    "esta página e reproduzí-lo e fazer seus testes aqui.\n",
    "\n",
    "Assim, procure exercitar os conceitos de representação da imagens e principalmente os conceitos de fatiamento\n",
    "do Numpy.\n",
    "\n",
    "Utilize o espaço abaixo para copiar qualquer parte do tutorial que você viu para\n",
    "exercitá-lo aqui:"
   ]
  },
  {
   "cell_type": "code",
   "execution_count": 1,
   "metadata": {
    "collapsed": false
   },
   "outputs": [
    {
     "name": "stdout",
     "output_type": "stream",
     "text": [
      "[ 0  1  2  3  4  5  6  7  8  9 10 11 12 13 14 15 16 17 18 19 20 21 22 23]\n"
     ]
    }
   ],
   "source": [
    "# para exercitar o numpy\n",
    "import numpy as np\n",
    "A = np.arange(24)\n",
    "print(A)"
   ]
  },
  {
   "cell_type": "code",
   "execution_count": 2,
   "metadata": {
    "collapsed": false
   },
   "outputs": [
    {
     "ename": "NameError",
     "evalue": "name 'adreadgray' is not defined",
     "output_type": "error",
     "traceback": [
      "\u001b[0;31m---------------------------------------------------------------------------\u001b[0m",
      "\u001b[0;31mNameError\u001b[0m                                 Traceback (most recent call last)",
      "\u001b[0;32m<ipython-input-2-93e4a4e9c0be>\u001b[0m in \u001b[0;36m<module>\u001b[0;34m()\u001b[0m\n\u001b[0;32m----> 1\u001b[0;31m \u001b[0mf\u001b[0m \u001b[0;34m=\u001b[0m \u001b[0madreadgray\u001b[0m\u001b[0;34m(\u001b[0m\u001b[0;34m'cameraman.tif'\u001b[0m\u001b[0;34m)\u001b[0m\u001b[0;34m\u001b[0m\u001b[0m\n\u001b[0m\u001b[1;32m      2\u001b[0m \u001b[0madshow\u001b[0m\u001b[0;34m(\u001b[0m\u001b[0mf\u001b[0m\u001b[0;34m,\u001b[0m\u001b[0;34m'cameraman.tif'\u001b[0m\u001b[0;34m)\u001b[0m\u001b[0;34m\u001b[0m\u001b[0m\n",
      "\u001b[0;31mNameError\u001b[0m: name 'adreadgray' is not defined"
     ]
    }
   ],
   "source": [
    "f = adreadgray('cameraman.tif')\n",
    "adshow(f,'cameraman.tif')"
   ]
  },
  {
   "cell_type": "markdown",
   "metadata": {},
   "source": [
    "## Programas para correção automática\n",
    "\n",
    "Como parte final das atividades desta semana, planejamos três programas simples que devem ser feitos e que serão \n",
    "corrigidos automaticamente, eles estão na sua lista de atividades da 1a semana. Os três programas devem ser resolvidos\n",
    "utilizando estritamente os conceitos de fatiamento discutidos e apresentados nos tutoriais mencionados. Evite fazer\n",
    "solução que utilize laço explícito com o uso de ``for``:\n",
    "\n",
    "1. Programa para sobrepor quadriculado em imagem de cinza.\n",
    "2. Programa de imagens de quadrados cinzas.\n",
    "3. Programa para rotacionar uma imagem de 90 graus no sentido horário \n",
    "\n",
    "Lembrar que como o Adessowiki é um ambiente colaborativo, poderemos compartilhar nossas experiências e aprender e ajudar os\n",
    "colegas.\n",
    "\n"
   ]
  },
  {
   "cell_type": "code",
   "execution_count": null,
   "metadata": {
    "collapsed": true
   },
   "outputs": [],
   "source": []
  }
 ],
 "metadata": {
  "kernelspec": {
   "display_name": "Python 3",
   "language": "python",
   "name": "python3"
  },
  "language_info": {
   "codemirror_mode": {
    "name": "ipython",
    "version": 3
   },
   "file_extension": ".py",
   "mimetype": "text/x-python",
   "name": "python",
   "nbconvert_exporter": "python",
   "pygments_lexer": "ipython3",
   "version": "3.6.0"
  },
  "toc": {
   "colors": {
    "hover_highlight": "#DAA520",
    "running_highlight": "#FF0000",
    "selected_highlight": "#FFD700"
   },
   "moveMenuLeft": true,
   "nav_menu": {
    "height": "83px",
    "width": "252px"
   },
   "navigate_menu": true,
   "number_sections": true,
   "sideBar": true,
   "threshold": 4,
   "toc_cell": true,
   "toc_section_display": "block",
   "toc_window_display": true
  }
 },
 "nbformat": 4,
 "nbformat_minor": 2
}
