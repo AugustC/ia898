{
 "cells": [
  {
   "cell_type": "markdown",
   "metadata": {},
   "source": [
    "# Histograma e Estatística de uma imagem\n",
    "\n",
    "## Histograma de uma imagem\n",
    "\n",
    "A imagem normalmente é composta de um grande número de pixels; hoje em dia,\n",
    "celulares tiram fotografias com a resolução espacial que produz alguns milhões de pixels.\n",
    "Uma das caracterizações ou \"assinaturas\" mais eficientes da imagem é seu histograma.\n",
    "\n",
    "Estude o pequeno tutorial disponível em:\n",
    "\n",
    "- [Tutorial - Histograma e Estatísticas](../master/tutorial_hist__stat_2)\n",
    " e após\n",
    "isto, plote com ``adshow(iaplot())`` o histograma da imagem a seguir:"
   ]
  },
  {
   "cell_type": "code",
   "execution_count": null,
   "metadata": {
    "collapsed": true
   },
   "outputs": [],
   "source": [
    "import ia636 as ia\n",
    "import numpy as np\n",
    "\n",
    "f = adreadgray('MVBook/retina.tif')\n",
    "h = ia.iahistogram(f)\n",
    "\n",
    "adshow(f, 'retina.tif')\n",
    "adshow(ia.iaplot(h, ylabel='n. de pixels', xlabel='niveis de cinza'), 'histograma de f')"
   ]
  },
  {
   "cell_type": "markdown",
   "metadata": {},
   "source": [
    "## Uso do matplotlib no Adessowiki\n",
    "\n",
    "O uso do `iaplot` é para situações simples, com poucas opções de plotagem. Para se plotar gráficos mais sofisticados,\n",
    "é possível se utilizar o `matplotlib` diretamente. Veja aqui neste breve tutorial como fazer:\n",
    "\n",
    "- `master:tutorial_matplotlib Como utilizar o matplotlib no Adessowiki` \n",
    "\n",
    "## Estatísticas de uma imagem\n",
    "\n",
    "Estude a função `ia636:iah2stats` que calcula diversas estatísticas da imagem a partir de\n",
    "seu histograma. Observe que estas estatísticas podem ser obtidas tanto diretamente da imagem como do histograma.\n",
    "A grande vantagem de calcular a estatística a partir do histograma é que o histograma é tipicamente um vetor de\n",
    "256 elementos enquanto que a imagem pode ser de milhões de pixels. Assim, quando se precisa calcular diversos\n",
    "valores estatísticos de uma imagem, calcula-se seu histograma e posteriormente seus valores estatísticos, calculados\n",
    "a partir do histogram.\n",
    "\n",
    "Veja a seguir o cálculo da média (`np.mean`) e do valor mediano (`np.median`) fazendo o cálculo diretamente na \n",
    "imagem."
   ]
  },
  {
   "cell_type": "code",
   "execution_count": null,
   "metadata": {
    "collapsed": true
   },
   "outputs": [],
   "source": [
    "print('f.mean()=', f.mean())\n",
    "print('np.median(f)=', np.median(f))"
   ]
  },
  {
   "cell_type": "markdown",
   "metadata": {},
   "source": [
    "Procure utilizar a função iah2stats operando no histograma para calcular estes mesmos valores."
   ]
  },
  {
   "cell_type": "markdown",
   "metadata": {},
   "source": [
    "# utilize ia.iah2stats para calcular média e mediana da imagem da retina.tif"
   ]
  },
  {
   "cell_type": "code",
   "execution_count": null,
   "metadata": {
    "collapsed": true
   },
   "outputs": [],
   "source": [
    "ia.adshow(f,'input image')\n",
    "h = ia.iahistogram(f)\n",
    "v = ia.iah2stats(h)\n",
    "print('mean =',v[0])\n",
    "print('variance =',v[1])\n",
    "print('skewness =',v[2])\n",
    "print('kurtosis = ',v[3])\n",
    "print('entropy = ',v[4])\n",
    "print('mode = ',v[5])\n",
    "print('percentil 1% = ',v[6])\n",
    "print('percentil 10% = ',v[7])\n",
    "print('percentil 50% = ',v[8])\n",
    "print('percentil 90% = ',v[9])\n",
    "print('percentil 99% = ',v[10])"
   ]
  },
  {
   "cell_type": "markdown",
   "metadata": {},
   "source": [
    "## Histograma de imagens aleatórias\n",
    "\n",
    "Calcule e plote os histogramas das imagens f1, f2 e f3 a seguir, dando uma justificativa para cada caso em relação ao formato do histograma.\n",
    "Aproveite para estudar as funções de geração de dados aleatórios \"randint\", \"shuffle\" e \"random.normal\":"
   ]
  },
  {
   "cell_type": "code",
   "execution_count": null,
   "metadata": {
    "collapsed": true
   },
   "outputs": [],
   "source": [
    "import matplotlib.pyplot as plt\n",
    "\n",
    "f1 = np.random.randint(0,256, (128,256)).astype(np.uint8)\n",
    "ia.adshow( f1, 'f1')\n",
    "h1 = ia.iahistogram(f1)\n",
    "fig2 = plt.figure()\n",
    "plt.bar( np.arange(h1.size), h1)\n",
    "ia.adshow( ia.iafig2img(fig2), 'histograma de f1')"
   ]
  },
  {
   "cell_type": "code",
   "execution_count": null,
   "metadata": {
    "collapsed": true
   },
   "outputs": [],
   "source": [
    "f_2 = np.resize(np.arange(256, dtype=np.uint8), (128,256)) # imagem rampa\n",
    "f2 = np.ravel(f_2)\n",
    "np.random.shuffle(f2)\n",
    "adshow(f2.reshape(f_2.shape), 'f2')\n",
    "h2 = ia.iahistogram(f2)\n",
    "fig3 = plt.figure()\n",
    "plt.bar( np.arange(h2.size), h2)\n",
    "adshow( ia.iafig2img(fig3), 'histograma de f2')"
   ]
  },
  {
   "cell_type": "code",
   "execution_count": null,
   "metadata": {
    "collapsed": true
   },
   "outputs": [],
   "source": [
    "f_3 = np.random.randn(128,256)\n",
    "f3 = ia.ianormalize(f_3).astype(np.uint8)\n",
    "adshow(f3, 'f3')\n",
    "h3 = ia.iahistogram(f3)\n",
    "fig4 = plt.figure()\n",
    "plt.bar( np.arange(h3.size), h3)\n",
    "adshow( ia.iafig2img(fig4), 'histograma de f3')"
   ]
  },
  {
   "cell_type": "markdown",
   "metadata": {},
   "source": [
    "## Teste de autoavaliação\n",
    "\n",
    "Faça o teste múltipla escolha a seguir para verificar os conhecimentos adquiridos com esta atividade.\n",
    "O teste é para autoestudo e pode ser repetido várias vezes:\n",
    "\n",
    "- `http://adessowiki.fee.unicamp.br/adesso-1/q/ae2-3/ Teste de autoestudo - Histograma e estatísticas de uma imagem`\n",
    "\n",
    "## Referências\n",
    "===========\n",
    "\n",
    "- `http://docs.scipy.org/doc/numpy/reference/generated/numpy.mean.html NumPy Reference: mean`\n",
    "- `http://docs.scipy.org/doc/numpy/reference/generated/numpy.median.html NumPy Reference: median`\n",
    "- `http://docs.scipy.org/doc/numpy/reference/generated/numpy.random.randint.html NumPy Reference: random.randint`\n",
    "- `http://docs.scipy.org/doc/numpy/reference/generated/numpy.random.shuffle.html NumPy Reference: random.shuffle`\n",
    "- `http://docs.scipy.org/doc/numpy/reference/generated/numpy.random.normal.html NumPy Reference: random.normal`\n",
    "\n",
    "## Referências n Toolbox\n",
    "\n",
    "- `ia636:iahistogram iahistogram - calcula o histograma de uma imagem`\n",
    "- `ia636:iah2stats iah2stats - calcula valores estatísticos de uma imagem a partir de seu histograma`\n",
    "- `ia636:iafig2img iafig2img - mostra figuras do matplotlib como imagens prontas para adshow`"
   ]
  }
 ],
 "metadata": {
  "kernelspec": {
   "display_name": "Python 3",
   "language": "python",
   "name": "python3"
  },
  "language_info": {
   "codemirror_mode": {
    "name": "ipython",
    "version": 3
   },
   "file_extension": ".py",
   "mimetype": "text/x-python",
   "name": "python",
   "nbconvert_exporter": "python",
   "pygments_lexer": "ipython3",
   "version": "3.6.0"
  },
  "toc": {
   "colors": {
    "hover_highlight": "#DAA520",
    "running_highlight": "#FF0000",
    "selected_highlight": "#FFD700"
   },
   "moveMenuLeft": true,
   "nav_menu": {
    "height": "12px",
    "width": "252px"
   },
   "navigate_menu": true,
   "number_sections": true,
   "sideBar": true,
   "threshold": 4,
   "toc_cell": false,
   "toc_section_display": "block",
   "toc_window_display": false
  }
 },
 "nbformat": 4,
 "nbformat_minor": 2
}
