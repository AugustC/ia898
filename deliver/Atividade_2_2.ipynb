{
 "cells": [
  {
   "cell_type": "markdown",
   "metadata": {},
   "source": [
    "# Numpy - operações que reduzem uma dimensão\n",
    "\n",
    "Uma das categorias de operações matriciais bastante útil do Numpy é a de operações\n",
    "que reduzem uma dimensão da matriz.\n",
    "\n",
    "Por exemplo, se eu quero calcular o perfil de cinza médio das linhas de uma imagem, é\n",
    "necessário fazer, para cada coluna, uma média entre todos os pixels daquela coluna.\n",
    "\n",
    "Leia com atenção o tutorial:\n",
    "\n",
    "- [Redução de eixo](../master/tutorial_numpy_1_5a)\n",
    "\n",
    "O Numpy possui a facilidade de redução de eixo em muitas operações tais como `mean`, `max`, `min`, `all`, `any`, `sum` e\n",
    "tantas outras.\n",
    "\n",
    "Estas funções permitem passar como parâmetro a dimensão em que o `ndarray` será reduzido.\n",
    "\n",
    "Vejamos o exemplo a seguir, agora usando a redução implícita sem a necessidade de fazer o laço anterior:"
   ]
  },
  {
   "cell_type": "code",
   "execution_count": null,
   "metadata": {
    "collapsed": true
   },
   "outputs": [],
   "source": [
    "import numpy as np\n",
    "f = adreadgray('cameraman.tif')[:6,:10]  # slice das 6 primeiras linhas e 10 primeiras colunas\n",
    "print('f=\\n', f)\n",
    "g = f.mean(0)\n",
    "print('g=\\n', g.round(1))\n",
    "print('f.shape=',f.shape)\n",
    "print('f.mean(0).shape=',f.mean(0).shape)"
   ]
  },
  {
   "cell_type": "markdown",
   "metadata": {},
   "source": [
    "Veja o exemplo de cálculo de valor mínimo da uma imagem das teclas da calculadora na página `master:tutorial_numpy_1_5a Redução de eixo`.\n",
    "Repita a seguir o mesmo exemplo, porém utilizando o perfil máximo no lugar do perfil mínimo:"
   ]
  },
  {
   "cell_type": "code",
   "execution_count": null,
   "metadata": {
    "collapsed": true
   },
   "outputs": [],
   "source": [
    "import ia636 as ia\n",
    "f = adreadgray('keyb.tif')\n",
    "adshow(f)\n",
    "m = f.mean()\n",
    "print 'f.mean', m\n",
    "hmax = f.max(0)\n",
    "adshow(ia.iaplot(hmax,ylabel='intensidade máxima',xlabel='coluna'),'f.max(0), valor máximo de cada coluna')"
   ]
  },
  {
   "cell_type": "markdown",
   "metadata": {},
   "source": [
    "## Teste de autoavaliação\n",
    "\n",
    "Faça o teste múltipla escolha a seguir para verificar os conhecimentos adquiridos com esta atividade.\n",
    "O teste é para autoestudo e pode ser repetido várias vezes:\n",
    "\n",
    "- `http://adessowiki.fee.unicamp.br/adesso-1/q/ae2-2/ Teste de autoestudo - Redução de eixo`\n"
   ]
  }
 ],
 "metadata": {
  "kernelspec": {
   "display_name": "Python 3",
   "language": "python",
   "name": "python3"
  },
  "language_info": {
   "codemirror_mode": {
    "name": "ipython",
    "version": 3
   },
   "file_extension": ".py",
   "mimetype": "text/x-python",
   "name": "python",
   "nbconvert_exporter": "python",
   "pygments_lexer": "ipython3",
   "version": "3.6.0"
  },
  "toc": {
   "colors": {
    "hover_highlight": "#DAA520",
    "running_highlight": "#FF0000",
    "selected_highlight": "#FFD700"
   },
   "moveMenuLeft": true,
   "nav_menu": {
    "height": "30px",
    "width": "252px"
   },
   "navigate_menu": true,
   "number_sections": true,
   "sideBar": true,
   "threshold": 4,
   "toc_cell": false,
   "toc_section_display": "block",
   "toc_window_display": false
  }
 },
 "nbformat": 4,
 "nbformat_minor": 2
}
