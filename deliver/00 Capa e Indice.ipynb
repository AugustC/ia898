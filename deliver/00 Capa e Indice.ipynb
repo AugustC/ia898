{
 "cells": [
  {
   "cell_type": "markdown",
   "metadata": {
    "collapsed": true
   },
   "source": [
    "# IA898 - Processamento de Imagens Digitais\n",
    "\n",
    "*Roberto Lotufo*\n",
    "\n",
    "![capa](../figures/capa_IA898.png)\n",
    "\n",
    "## Conteúdo\n",
    "\n",
    "- [Ferramentas de Edicao HTML](Ferramentas de Edicao HTML.ipynb)\n",
    "\n",
    "## Documentação\n",
    "\n",
    "- [Jupyter Notebook](http://jupyter-notebook.readthedocs.io/en/latest/notebook.html)\n"
   ]
  }
 ],
 "metadata": {
  "anaconda-cloud": {},
  "kernelspec": {
   "display_name": "Python 3",
   "language": "python",
   "name": "python3"
  },
  "language_info": {
   "codemirror_mode": {
    "name": "ipython",
    "version": 3
   },
   "file_extension": ".py",
   "mimetype": "text/x-python",
   "name": "python",
   "nbconvert_exporter": "python",
   "pygments_lexer": "ipython3",
   "version": "3.6.0"
  }
 },
 "nbformat": 4,
 "nbformat_minor": 0
}
