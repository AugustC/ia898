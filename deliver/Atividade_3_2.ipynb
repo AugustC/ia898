{
 "cells": [
  {
   "cell_type": "markdown",
   "metadata": {
    "toc": "true"
   },
   "source": [
    "# Table of Contents\n",
    " <p><div class=\"lev1 toc-item\"><a href=\"#Visualizando-vários-mapeamentos\" data-toc-modified-id=\"Visualizando-vários-mapeamentos-1\"><span class=\"toc-item-num\">1&nbsp;&nbsp;</span>Visualizando vários mapeamentos</a></div><div class=\"lev2 toc-item\"><a href=\"#Utilizando-sua-função-feita-no-exercício-proposto\" data-toc-modified-id=\"Utilizando-sua-função-feita-no-exercício-proposto-11\"><span class=\"toc-item-num\">1.1&nbsp;&nbsp;</span>Utilizando sua função feita no exercício proposto</a></div><div class=\"lev2 toc-item\"><a href=\"#Visualizando-na-tabela-inserida-a-transformação-de-intensidade-feita\" data-toc-modified-id=\"Visualizando-na-tabela-inserida-a-transformação-de-intensidade-feita-12\"><span class=\"toc-item-num\">1.2&nbsp;&nbsp;</span>Visualizando na tabela inserida a transformação de intensidade feita</a></div><div class=\"lev2 toc-item\"><a href=\"#Implementação-da-Correção-Gama\" data-toc-modified-id=\"Implementação-da-Correção-Gama-13\"><span class=\"toc-item-num\">1.3&nbsp;&nbsp;</span>Implementação da Correção Gama</a></div><div class=\"lev2 toc-item\"><a href=\"#Visualizando-com-outras-tabelas-de-cores\" data-toc-modified-id=\"Visualizando-com-outras-tabelas-de-cores-14\"><span class=\"toc-item-num\">1.4&nbsp;&nbsp;</span>Visualizando com outras tabelas de cores</a></div>"
   ]
  },
  {
   "cell_type": "markdown",
   "metadata": {},
   "source": [
    "# Visualizando vários mapeamentos \n",
    "\n",
    "Quando visualizamos uma imagem, seja na tela do computador ou impresso em papel, existe sempre\n",
    "uma transformação ou mapeamento de intensidade que é aplicado na imagem. Uma forma simples de visualizar qual\n",
    "foi esta transformação consiste em incluir na imagem uma rampa de pixels com os valores que você quer\n",
    "verificar qual é a transformação aplicada.\n",
    "\n",
    "Nesta atividade iremos fazer isto. Nossas imagens em níveis de cinza estão armazenadas em 8 bits sem sinal (\"uint8\")\n",
    "variando de 0 a 255. A ideia é incluir uma rampa vertical de valores entre 0 e 255 diretamente na matriz da imagem\n",
    "utilizando a função que você fez na atividade anterior. \n",
    "\n",
    "Para entender melhor como se usa uma função feita em outra página do Adessowiki, veja o breve tutorial:\n",
    "\n",
    "- [Criando módulos Python no Adessowiki](../master/tutorial_1_modulo.ipynb)"
   ]
  },
  {
   "cell_type": "markdown",
   "metadata": {},
   "source": [
    "## Utilizando sua função feita no exercício proposto\n",
    "\n",
    "A seguir, a função é utilizada para visualizar a imagem com a rampa de cinza. Veja o comando de\n",
    "importação: ``import activity_mariecp_3_tc as my``.\n",
    "\n",
    "Depois de feita a função ``tc_insertion``, descomente a linha de importação da função abaixo:"
   ]
  },
  {
   "cell_type": "code",
   "execution_count": null,
   "metadata": {
    "collapsed": true
   },
   "outputs": [],
   "source": [
    "#import activity_mariecp_3_tc as my"
   ]
  },
  {
   "cell_type": "markdown",
   "metadata": {},
   "source": [
    "Depois de feita a função ``tc_insertion``, descomente as linhas de criação e display de ``fr`` a seguir:"
   ]
  },
  {
   "cell_type": "code",
   "execution_count": null,
   "metadata": {
    "collapsed": true
   },
   "outputs": [],
   "source": [
    "f = mpimg.imread('../data/retina.tif')\n",
    "ia.adshow(f)\n",
    "#fr = my.tc_insertion(f)\n",
    "#adshow(fr)"
   ]
  },
  {
   "cell_type": "markdown",
   "metadata": {},
   "source": [
    "## Visualizando na tabela inserida a transformação de intensidade feita\n",
    "\n",
    "A seguir refazemos as 5 tabelas do tutorial:\n",
    "\n",
    "- [Transformações de Intensidade](../master/tutorial_ti_2.ipynb)\n",
    "\n",
    "e visualizamos cada caso.\n",
    "Descomente as linhas que utilizam as imagem ``fr`` a seguir para visualizar a imagem transformada com a\n",
    "rampa inserida. Observe que a rampa inserida, como ela contém os valores de 0 a 255 na imagem, ela funciona como\n",
    "uma escala de cores, para saber exatamente qual é a cor que aparece no display da imagem."
   ]
  },
  {
   "cell_type": "code",
   "execution_count": null,
   "metadata": {
    "collapsed": true
   },
   "outputs": [],
   "source": [
    "# Tabelas feitas no tutorial\n",
    "T1 = np.arange(256).astype('uint8') # função identidade\n",
    "T2 = ia.normalize(np.log(T1+1.)) # logaritmica - realce partes escuras\n",
    "T3 = 255 - T1 # negativo\n",
    "T4 = 255 * (T1 > 128).astype('uint8') # threshold 128\n",
    "T5 = ia.normalize(T1//64) # reduz o número de níveis de cinza\n",
    "\n",
    "f2 = T2[f]\n",
    "#f2r = T2[fr]\n",
    "\n",
    "adshow(f2,'realce logarítmico')\n",
    "#adshow(f2r, 'vizualização com rampa')\n",
    "\n",
    "f3 = T3[f]\n",
    "#f3r = T3[fr]\n",
    "\n",
    "adshow(f3,'negativo')\n",
    "#adshow(f3r, 'visualização com rampa')\n",
    "\n",
    "f4 = T4[f]\n",
    "#f4r = T4[fr]\n",
    "\n",
    "adshow(f4,'threshold 128')\n",
    "#adshow(f4r, 'visualização com rampa')\n",
    "\n",
    "f5 = T5[f]\n",
    "#f5r = T5[fr]\n",
    "\n",
    "adshow(f5,'redução n. de cinzas')\n",
    "#adshow(f5r, 'visualização com rampa')"
   ]
  },
  {
   "cell_type": "markdown",
   "metadata": {},
   "source": [
    "## Implementação da Correção Gama\n",
    "\n",
    "Implemente aqui função de correção Gama, muito \n",
    "utilizada para correção de displays. Veja maiores informações em\n",
    "\n",
    "- [Wikipedia: Gamma correction](http://en.wikipedia.org/wiki/Gamma_correction)\n",
    "\n",
    "A equação da função de correção Gama é:\n",
    "\n",
    "$$    T[v] = v^{\\gamma} \\text{para}\\ v \\in [0,255] $$\n",
    "\n",
    "Onde: $\\gamma$ é o fator de correção. Quando $\\gamma$ é 1.0 não existe \n",
    "alteração, se $\\gamma < 1$ aumenta o contraste nas áreas escuras e \n",
    "$\\gamma > 1$, ocorre o contrário.\n",
    "\n",
    "Implemente a transformação de correção Gama, de forma similar à feita para a \n",
    "transformação ``T2`` acima e aplique na imagem, com vários valores de Gama:"
   ]
  },
  {
   "cell_type": "code",
   "execution_count": null,
   "metadata": {
    "collapsed": true
   },
   "outputs": [],
   "source": [
    "# Crie Tg de forma parecida com T2\n",
    "# Tg = ia.normalize(  )\n",
    "# plote\n",
    "# plt.plot(Tg), plt.title('Tg gama=0.5')\n",
    "# aplique na imagem: \n",
    "# fgr = Tg[fr]\n",
    "# mostre-a: \n",
    "# ia.adshow(fgr, 'correção gama')"
   ]
  },
  {
   "cell_type": "markdown",
   "metadata": {},
   "source": [
    "## Visualizando com outras tabelas de cores\n",
    "\n",
    "Nos exemplos a seguir, a imagem é mapeada em tabelas de cores de forma que cada nível de cinza da\n",
    "imagem original é mapeada em três imagens R, G, B no modelo colorido RGB. Isto não é assunto deste curso\n",
    "mas serve de exemplificação.\n",
    "\n",
    "Troque o uso da imagem ``f`` abaixo pela imagem ``fr`` que contém a rampa:"
   ]
  },
  {
   "cell_type": "code",
   "execution_count": null,
   "metadata": {
    "collapsed": true
   },
   "outputs": [],
   "source": [
    "cm1 = ia.colormap('hsv')\n",
    "f_cm1 = ia.applylut(f, cm1)\n",
    "ia.adshow(f_cm1, 'hsv')"
   ]
  },
  {
   "cell_type": "code",
   "execution_count": null,
   "metadata": {
    "collapsed": true
   },
   "outputs": [],
   "source": [
    "cm2 = ia.colormap('hot')\n",
    "f_cm2 = ia.applylut(f, cm2)\n",
    "ia.adshow(f_cm2, 'hot')"
   ]
  },
  {
   "cell_type": "code",
   "execution_count": null,
   "metadata": {
    "collapsed": true
   },
   "outputs": [],
   "source": [
    "cm2 = ia.colormap('cool')\n",
    "f_cm2 = ia.applylut(f, cm2)\n",
    "ia.adshow(f_cm2, 'cool')"
   ]
  },
  {
   "cell_type": "code",
   "execution_count": null,
   "metadata": {
    "collapsed": true
   },
   "outputs": [],
   "source": [
    "cm2 = ia.colormap('bone')\n",
    "f_cm2 = ia.applylut(f, cm2)\n",
    "ia.adshow(f_cm2, 'bone')"
   ]
  },
  {
   "cell_type": "code",
   "execution_count": null,
   "metadata": {
    "collapsed": true
   },
   "outputs": [],
   "source": [
    "cm2 = ia.colormap('pink')\n",
    "f_cm2 = ia.applylut(f, cm2)\n",
    "adshow(f_cm2, 'pink')"
   ]
  }
 ],
 "metadata": {
  "kernelspec": {
   "display_name": "Python 3",
   "language": "python",
   "name": "python3"
  },
  "language_info": {
   "codemirror_mode": {
    "name": "ipython",
    "version": 3
   },
   "file_extension": ".py",
   "mimetype": "text/x-python",
   "name": "python",
   "nbconvert_exporter": "python",
   "pygments_lexer": "ipython3",
   "version": "3.6.0"
  },
  "toc": {
   "colors": {
    "hover_highlight": "#DAA520",
    "running_highlight": "#FF0000",
    "selected_highlight": "#FFD700"
   },
   "moveMenuLeft": true,
   "nav_menu": {
    "height": "102px",
    "width": "252px"
   },
   "navigate_menu": true,
   "number_sections": true,
   "sideBar": true,
   "threshold": 4,
   "toc_cell": true,
   "toc_section_display": "block",
   "toc_window_display": false
  }
 },
 "nbformat": 4,
 "nbformat_minor": 2
}
