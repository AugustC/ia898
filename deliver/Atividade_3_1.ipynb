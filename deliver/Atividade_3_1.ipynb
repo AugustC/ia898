{
 "cells": [
  {
   "cell_type": "markdown",
   "metadata": {},
   "source": [
    "# Aula 4\n",
    "\n",
    "# Transformação de intensidade, Realce e Equalização de histograma\n",
    "\n",
    "O objetivo destas atividades é explorar várias formas de mapeamento dos valores\n",
    "dos pixels. É a categoria de funções que apenas alteram o valor do pixel aplicando-se\n",
    "uma função ou tabela de mapeamento. Veremos que é possível implementar várias\n",
    "funções de melhoria de contraste e brilho da imagem.\n",
    "\n",
    "1. Estude atentamente o tutorial sobre Transformada de intensidade. Ele mostra como\n",
    "   podemos fazer estas operações de forma eficiente através de uma tabela de mapeamento:\n",
    "\n",
    "   - `master:tutorial_ti_2 Tutorial sobre Transformada de intensidade`\n",
    "\n",
    "2. Um dos exercícios tradicionais em processamento de imagens é a equalização de histograma.\n",
    "   O tutorial a seguir ilustra como fazer isto de forma simples e eficiente no NumPy:\n",
    "\n",
    "   - `master:tutorial_hist_eq_2 Tutorial sobre equalização de histograma`\n",
    "   \n",
    "3. É possível fazer a equalização da imagem utilizando também o conceito usado para\n",
    "   construir um mosaico com tons de cinza igualmente distribuídos. Confira esta forma\n",
    "   intuitiva e eficiente de se equalizar a distribuição de pixels na imagem.\n",
    "   \n",
    "   - `master:tutorial_pehist_1 Tutorial equalização de histograma por montagem de mosaico`\n",
    " \n",
    "4. Acompanhando o tutorial anterior é possível estendê-lo para transformar a imagem para\n",
    "   ter um histograma especificado. Acompanhe o desenvolvimento desta forma simples de\n",
    "   especificação de histograma:\n",
    "   \n",
    "   - `master:tutorial_pehist_2 Tutorial sobre especificação de histograma`\n"
   ]
  }
 ],
 "metadata": {
  "kernelspec": {
   "display_name": "Python 3",
   "language": "python",
   "name": "python3"
  },
  "language_info": {
   "codemirror_mode": {
    "name": "ipython",
    "version": 3
   },
   "file_extension": ".py",
   "mimetype": "text/x-python",
   "name": "python",
   "nbconvert_exporter": "python",
   "pygments_lexer": "ipython3",
   "version": "3.6.0"
  }
 },
 "nbformat": 4,
 "nbformat_minor": 2
}
