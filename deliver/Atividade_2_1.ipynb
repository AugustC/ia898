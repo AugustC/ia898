{
 "cells": [
  {
   "cell_type": "markdown",
   "metadata": {},
   "source": [
    "# Criação de imagens sintéticas\n",
    "\n",
    "Imagens sintéticas são bastante utilizadas nos testes de algoritmos e na geração de\n",
    "padrões de imagens.\n",
    "\n",
    "Iremos aprender a gerar os valores dos pixels de uma imagem a partir de uma equação matemática\n",
    "de forma muito eficiente, sem a necessidade de se usar explicitamente a varredura dos\n",
    "pixels através do comando `for`.\n",
    "\n",
    "A forma preferencial de criação de imagens sintéticas, quando sua equação é fornecida, é\n",
    "através do uso das funções que geram uma matriz de coordenadas. As duas funções que\n",
    "iremos utilizar neste curso são `indices` e `meshgrid`.\n",
    "\n",
    "Estude o tutorial em:\n",
    "\n",
    "- [Indices e Meshgrid](../master/tutorial_numpy_1_7.ipynb)\n",
    "\n",
    "Ele é fundamental para entender os exemplos a seguir."
   ]
  },
  {
   "cell_type": "markdown",
   "metadata": {},
   "source": [
    "## Imagem da função \"sela\"\n",
    "\n",
    "A função \"sela\" bidimensional é uma função dada pelo produto de suas coordenadas `r` e `c`.\n",
    "Observe que, implementando desta forma, é possível fazer com que o código Python/NumPy fique\n",
    "muito próximo à equação matemática, colocada a seguir.\n",
    "\n",
    "Vamos gerar uma função sela, onde os valores para as linhas serão valores inteiros entre\n",
    "-75 e 75 e os valores para as colunas, inteiros no intervalo [-100,100]:\n",
    "\n",
    "$$    f(r,c) = r \\ c $$\n",
    "$$    \\text{para} \\ r  \\in  [-75,75] $$\n",
    "$$                  c  \\in  [-100,100]$$\n",
    "   \n",
    "   \n",
    "No exemplo a seguir é utilizado a função `arange` para gerar os vetores de coordenadas. Para melhorar\n",
    "a visualização foi utilizada a função `ia636:iaisolines iaisolines` que permite visualizar os \n",
    "pixels de mesmo valores (isolinhas) da imagem gerada com uma cor destacada."
   ]
  },
  {
   "cell_type": "code",
   "execution_count": null,
   "metadata": {
    "collapsed": true
   },
   "outputs": [],
   "source": [
    "import ia636 as ia\n",
    "import numpy as np\n",
    "\n",
    "r,c = np.meshgrid(np.arange(-75,75), np.arange(-100,100), indexing='ij')\n",
    "f = r * c\n",
    "fn = ia.normalize(f)\n",
    "ia.adshow(fn, 'Ponto de sela')\n",
    "ia.adshow(ia.iaisolines(fn,9), 'Ponto de sela com isolinhas')"
   ]
  },
  {
   "cell_type": "markdown",
   "metadata": {},
   "source": [
    "## Outras images criadas com matrizes de índices\n",
    "\n",
    "Estude outras funções da toolbox `ia636:MainPage` que também foram feitas desta forma:\n",
    "\n",
    "- `ia636:iacos` - Cossenóide\n",
    "- `ia636:iacircle` - Círculo\n",
    "- `ia636:iarectangle` - Retângulo\n",
    "- `ia636:ialog` - Laplaciano da gaussiana"
   ]
  },
  {
   "cell_type": "markdown",
   "metadata": {},
   "source": [
    "## Atividades\n",
    "\n",
    "- Faça a seguir um programa qualquer de geração de imagem a partir de uma equação:"
   ]
  },
  {
   "cell_type": "code",
   "execution_count": null,
   "metadata": {
    "collapsed": true
   },
   "outputs": [],
   "source": [
    "from ia636 import iacircle\n",
    "r,c = np.indices( (100,100))\n",
    "# implemente aqui a equação da sua função bidimensional \n",
    "F = ia.iacircle([500,500], 100, [200,300])\n",
    "ia.adshow(F)"
   ]
  },
  {
   "cell_type": "markdown",
   "metadata": {},
   "source": [
    "- (opcional) Uma sugestão de exercício avançado opcional é gerar a função de Gabor, muito utilizada em filtro direcionais. A equação\n",
    "da função de Gabor pode ser vista em [Gabor filter](http://en.wikipedia.org/wiki/Gabor_filter). Implemente a função real.\n",
    "\n",
    "- As duas próximas atividades, descritas no índice das atividades desta semana envolvem o desenvolvimento de programas \n",
    "que geram uma imagem rampa e uma imagem com um \"x\" desenhado. Estes programas devem ser feitos utilizando a função `indices`. "
   ]
  },
  {
   "cell_type": "markdown",
   "metadata": {},
   "source": [
    "## Criação de gaussiana n-dimensional\n",
    "\n",
    "Uma função também escrita com índices matriciais, porém muito mais complexa de entender é a `ia636:iagaussian`. Veja\n",
    "que o código é extremamente curto, porém bastante complexo e ela ainda funciona para qualquer dimensão, desde 1-D, 2-D,\n",
    "3-D, isto é, n-D. Para quem estiver interessado em entender como ela funciona, existe uma demonstração que procura \n",
    "explicar seu funcionamento em `ia636:iagengauss`."
   ]
  },
  {
   "cell_type": "markdown",
   "metadata": {},
   "source": [
    "## Questões de autoavaliação\n",
    "\n",
    "Faça o teste múltipla escolha a seguir para verificar os conhecimentos adquiridos com esta atividade.\n",
    "O teste é para autoestudo e pode ser repetido várias vezes:\n",
    "\n",
    "- Teste de autoestudo - Imagens sintéticas usando indices e meshgrid`\n"
   ]
  }
 ],
 "metadata": {
  "kernelspec": {
   "display_name": "Python 3",
   "language": "python",
   "name": "python3"
  },
  "language_info": {
   "codemirror_mode": {
    "name": "ipython",
    "version": 3
   },
   "file_extension": ".py",
   "mimetype": "text/x-python",
   "name": "python",
   "nbconvert_exporter": "python",
   "pygments_lexer": "ipython3",
   "version": "3.6.0"
  },
  "toc": {
   "colors": {
    "hover_highlight": "#DAA520",
    "running_highlight": "#FF0000",
    "selected_highlight": "#FFD700"
   },
   "moveMenuLeft": true,
   "nav_menu": {
    "height": "84px",
    "width": "252px"
   },
   "navigate_menu": true,
   "number_sections": true,
   "sideBar": true,
   "threshold": 4,
   "toc_cell": false,
   "toc_section_display": "block",
   "toc_window_display": false
  }
 },
 "nbformat": 4,
 "nbformat_minor": 2
}
