{
 "cells": [
  {
   "cell_type": "markdown",
   "metadata": {},
   "source": [
    "# Introdução ao NumPy no ambiente Adessowiki\n",
    "\n",
    "## Redução de eixo\n",
    "\n",
    ".. contents:: \n",
    "\n",
    "### Operação combinando todos os pixels\n",
    "\n",
    "Existem várias funções que calculam valores estatísticos da imagem, como valor máximo, valor médio, \n",
    "soma, entre outras, que permitem sua aplicação em todos os pixels resultando num valor escalar único.\n",
    "\n",
    "Vejam alguns exemplos de cálculo do máximo valor do array, valor médio e somatório de todos os valores:"
   ]
  },
  {
   "cell_type": "code",
   "execution_count": 2,
   "metadata": {
    "collapsed": false
   },
   "outputs": [
    {
     "name": "stdout",
     "output_type": "stream",
     "text": [
      "a = \n",
      "[[ 0  1  2  3  4  5]\n",
      " [ 6  7  8  9 10 11]\n",
      " [12 13 14 15 16 17]\n",
      " [18 19 20 21 22 23]]\n",
      "a.max()= 23\n",
      "a.mean()= 11.5\n",
      "a.sum()= 276\n"
     ]
    }
   ],
   "source": [
    "\n",
    "import numpy as np\n",
    "\n",
    "a = np.arange(24).reshape((4,6))\n",
    "print \"a = \\n\", a\n",
    "print 'a.max()=',  a.max()\n",
    "print 'a.mean()=', a.mean()\n",
    "print 'a.sum()=',  a.sum()"
   ]
  },
  {
   "cell_type": "markdown",
   "metadata": {},
   "source": [
    "A título de curiosidade, em processamento paralelo, fazer este tipo de operação, que acumula um \n",
    "único valor a partir dos valores de cada pixel é uma das operações mais ineficientes, pois\n",
    "existe o gargalo que todos os pixels precisam ser acumulados numa única variável. Este tipo\n",
    "de operação, em processamento paralelo, é denominada ``redução``, pois você reduz todos os\n",
    "elementos do ``ndarray`` a um único valor.\n",
    "\n",
    "### Operação combinando eixos (redução de eixo)\n",
    "    \n",
    "É possível também fazer estas operações que combinam os pixels, apenas em alguns eixos, isto é \n",
    "denominado redução de eixo. Para se conseguir isto, basta utilizar como parâmetro da função\n",
    "usada para a combinação dos valores o eixo em que os valores serão calculados. Assim, se a\n",
    "imagem for bidimensional, eixos 0 (linhas) e 1 (colunas), se quisermos combinar na direção\n",
    "das linhas utilizamos 0 como parâmetro e se quisermos acumular na direção das colunas, utilizamos\n",
    "um como parâmetro. Existem vários métodos que podem ser utilizados.\n",
    "Vejamos os exemplos a seguir:\n",
    "    "
   ]
  },
  {
   "cell_type": "code",
   "execution_count": 3,
   "metadata": {
    "collapsed": false
   },
   "outputs": [
    {
     "name": "stdout",
     "output_type": "stream",
     "text": [
      "a =\n",
      "[[ 0  1  2  3  4  5]\n",
      " [ 6  7  8  9 10 11]\n",
      " [12 13 14 15 16 17]\n",
      " [18 19 20 21 22 23]]\n",
      "a.shape =  (4, 6)\n",
      "a.max(0) =  [18 19 20 21 22 23]\n",
      "a.max(0).shape =  (6,)\n",
      "a.max(1) =  [ 5 11 17 23]\n",
      "a.max(1).shape =  (4,)\n"
     ]
    }
   ],
   "source": [
    "print 'a =\\n',a\n",
    "print 'a.shape = ', a.shape\n",
    "print 'a.max(0) = ', a.max(0)\n",
    "print 'a.max(0).shape = ', a.max(0).shape\n",
    "print 'a.max(1) = ', a.max(1)\n",
    "print 'a.max(1).shape = ', a.max(1).shape"
   ]
  },
  {
   "cell_type": "markdown",
   "metadata": {},
   "source": [
    "Note que ``a.max(0)`` opera no eixo das linhas, resultando o valor máximo de cada coluna. O\n",
    "resultado possui 4 elementos que é o número de colunas de ``a``. Note que o shape foi reduzido de (5,4) para (4,), pois a\n",
    "operação se deu na dimensão 0.\n",
    "\n",
    "Já o ``a.max(1)`` opera na direção do eixo nas colunas, resultando o máximo em cada linha. \n",
    "O shape reduziu de (5,4) para (5,).\n",
    "\n",
    "### Outros exemplos numéricos\n",
    "\n",
    "A seguir outros exemplos reduzindo o eixo 0 (linhas). Em todos os exemplos a seguir, como a redução\n",
    "se dá no eixo 0, o vetor resultante terá shape (4,), pois o eixo 0 do shape (5,4) de ``a``."
   ]
  },
  {
   "cell_type": "code",
   "execution_count": 4,
   "metadata": {
    "collapsed": false
   },
   "outputs": [
    {
     "name": "stdout",
     "output_type": "stream",
     "text": [
      "a =\n",
      "[[ 0  1  2  3  4  5]\n",
      " [ 6  7  8  9 10 11]\n",
      " [12 13 14 15 16 17]\n",
      " [18 19 20 21 22 23]]\n",
      "a.mean(0) =  [  9.  10.  11.  12.  13.  14.]\n",
      "a.min(0) =  [0 1 2 3 4 5]\n",
      "a.sum(0) =  [36 40 44 48 52 56]\n",
      "a.cumsum(0) =  [[ 0  1  2  3  4  5]\n",
      " [ 6  8 10 12 14 16]\n",
      " [18 21 24 27 30 33]\n",
      " [36 40 44 48 52 56]]\n"
     ]
    }
   ],
   "source": [
    "\n",
    "print 'a =\\n',a\n",
    "print 'a.mean(0) = ', a.mean(0)\n",
    "print 'a.min(0) = ', a.min(0)\n",
    "print 'a.sum(0) = ', a.sum(0)\n",
    "print 'a.cumsum(0) = ', a.cumsum(0) # soma acumulada\n"
   ]
  },
  {
   "cell_type": "markdown",
   "metadata": {},
   "source": [
    "## Redução no eixo com aplicações em imagens\n",
    "\n",
    "No exemplo abaixo, calculamos o perfil médio das colunas numa imagem que \n",
    "representa um recorte de uma parte de uma calculadora.\n",
    "\n",
    "O perfil médio dos pixels é calculado com a operação de ``mean(0)`` para se fazer a redução\n",
    "da dimensão 0 (linhas). Veja a interpretação da curva no gráfico. As teclas são escuras, porém as\n",
    "letras são bem claras dando um valor médio \n",
    "mais baixo que o fundo das teclas que possui um nível de cinza maior. Observe que ``mean(0)``\n",
    "irá calcular a média de cada coluna, assim, o ``hmean[0]`` abaixo será a média de todos os pixels\n",
    "da primeira coluna, o ``hmean[1]``, a média de todos os pixels da segunda coluna de ``f`` e \n",
    "assim por diante. Veja que a operação sendo na direção das linhas (eixo 0), podemos interpretar\n",
    "que o resultado é uma linha horizontal média da imagem ou é uma linha onde cada elemento é a\n",
    "média dos pixels de cada coluna da imagem.  "
   ]
  },
  {
   "cell_type": "code",
   "execution_count": null,
   "metadata": {
    "collapsed": true
   },
   "outputs": [],
   "source": [
    "import ia636 as ia\n",
    "f = adreadgray('keyb.tif')\n",
    "adshow(f,'f: shape(%d,%d)' % (f.shape[0], f.shape[1]))\n",
    "hmean = f.mean(0)\n",
    "adshow(ia.iaplot(hmean,ylabel='intensidade',xlabel='coluna'),'f.mean(0), valor médio de cada coluna')"
   ]
  },
  {
   "cell_type": "markdown",
   "metadata": {},
   "source": [
    "Veja o exemplo similar, mas agora calculando os valores mínimos de cada coluna. "
   ]
  },
  {
   "cell_type": "code",
   "execution_count": null,
   "metadata": {
    "collapsed": true
   },
   "outputs": [],
   "source": [
    "\n",
    "import ia636 as ia\n",
    "\n",
    "f = adreadgray('keyb.tif')\n",
    "adshow(f,'f: shape(%d,%d)' % (f.shape[0], f.shape[1]))\n",
    "hmin = f.min(0)\n",
    "adshow(ia.iaplot(hmin,ylabel='intensidade mínima',xlabel='coluna'),'f.min(0), valor mínimo de cada coluna')"
   ]
  },
  {
   "cell_type": "markdown",
   "metadata": {},
   "source": [
    "### Tratamento com arrays de muitas dimensões\n",
    "\n",
    "Uma das vantagens do NumPy é sua generalização para tratar arrays de quaisquer dimensões. Vamos ver alguns exemplos com 4 dimensões:"
   ]
  },
  {
   "cell_type": "code",
   "execution_count": 9,
   "metadata": {
    "collapsed": false
   },
   "outputs": [
    {
     "name": "stdout",
     "output_type": "stream",
     "text": [
      "a.shape: (2, 3, 4, 5)\n",
      "a=\n",
      "[[[[  0   1   2   3   4]\n",
      "   [  5   6   7   8   9]\n",
      "   [ 10  11  12  13  14]\n",
      "   [ 15  16  17  18  19]]\n",
      "\n",
      "  [[ 20  21  22  23  24]\n",
      "   [ 25  26  27  28  29]\n",
      "   [ 30  31  32  33  34]\n",
      "   [ 35  36  37  38  39]]\n",
      "\n",
      "  [[ 40  41  42  43  44]\n",
      "   [ 45  46  47  48  49]\n",
      "   [ 50  51  52  53  54]\n",
      "   [ 55  56  57  58  59]]]\n",
      "\n",
      "\n",
      " [[[ 60  61  62  63  64]\n",
      "   [ 65  66  67  68  69]\n",
      "   [ 70  71  72  73  74]\n",
      "   [ 75  76  77  78  79]]\n",
      "\n",
      "  [[ 80  81  82  83  84]\n",
      "   [ 85  86  87  88  89]\n",
      "   [ 90  91  92  93  94]\n",
      "   [ 95  96  97  98  99]]\n",
      "\n",
      "  [[100 101 102 103 104]\n",
      "   [105 106 107 108 109]\n",
      "   [110 111 112 113 114]\n",
      "   [115 116 117 118 119]]]]\n"
     ]
    }
   ],
   "source": [
    "a = np.arange(120).reshape((2,3,4,5))\n",
    "print 'a.shape:', a.shape\n",
    "print 'a=\\n', a"
   ]
  },
  {
   "cell_type": "markdown",
   "metadata": {},
   "source": [
    "Redução no segundo eixo (axis = 1):"
   ]
  },
  {
   "cell_type": "code",
   "execution_count": 6,
   "metadata": {
    "collapsed": false
   },
   "outputs": [
    {
     "name": "stdout",
     "output_type": "stream",
     "text": [
      "b.shape: (2, 4, 5)\n",
      "b=\n",
      "[[[ 60  63  66  69  72]\n",
      "  [ 75  78  81  84  87]\n",
      "  [ 90  93  96  99 102]\n",
      "  [105 108 111 114 117]]\n",
      "\n",
      " [[240 243 246 249 252]\n",
      "  [255 258 261 264 267]\n",
      "  [270 273 276 279 282]\n",
      "  [285 288 291 294 297]]]\n"
     ]
    }
   ],
   "source": [
    "b = a.sum(axis=1)\n",
    "print 'b.shape:', b.shape\n",
    "print 'b=\\n',b"
   ]
  },
  {
   "cell_type": "markdown",
   "metadata": {},
   "source": [
    "Uma forma conveniente de indicar o eixo da redução é contá-lo do eixo menos significativo como sendo o eixo -1. Assim se usarmos eixos positivos, com 4 dimensões os eixos são: 0 (mais significativo, 1, 2 e 3 (menos significativo). Quando se usa valor negativo, s contagem passa a ser: -4 (mais significativo), -3, -2 e -1 (menos significativo).\n",
    "\n",
    "No exemplo a seguir, é feita uma redução de eixo no menos significativo:"
   ]
  },
  {
   "cell_type": "code",
   "execution_count": 8,
   "metadata": {
    "collapsed": false
   },
   "outputs": [
    {
     "name": "stdout",
     "output_type": "stream",
     "text": [
      "c.shape: (2, 3, 4)\n",
      "c=\n",
      "[[[ 10  35  60  85]\n",
      "  [110 135 160 185]\n",
      "  [210 235 260 285]]\n",
      "\n",
      " [[310 335 360 385]\n",
      "  [410 435 460 485]\n",
      "  [510 535 560 585]]]\n"
     ]
    }
   ],
   "source": [
    "c = a.sum(axis=-1)\n",
    "print 'c.shape:',c.shape\n",
    "print 'c=\\n', c"
   ]
  }
 ],
 "metadata": {
  "kernelspec": {
   "display_name": "Python [Root]",
   "language": "python",
   "name": "Python [Root]"
  },
  "language_info": {
   "codemirror_mode": {
    "name": "ipython",
    "version": 2
   },
   "file_extension": ".py",
   "mimetype": "text/x-python",
   "name": "python",
   "nbconvert_exporter": "python",
   "pygments_lexer": "ipython2",
   "version": "2.7.12"
  }
 },
 "nbformat": 4,
 "nbformat_minor": 0
}
