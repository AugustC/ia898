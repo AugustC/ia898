{
 "cells": [
  {
   "cell_type": "code",
   "execution_count": 4,
   "metadata": {
    "collapsed": true
   },
   "outputs": [],
   "source": [
    "import sys,os\n",
    "sys.path.append(os.path.abspath('../src/')) # para importar nbpil\n",
    "try:\n",
    "    sys.imagepath.append(os.path.abspath('../data/')) # caminho para imagens\n",
    "except:\n",
    "    sys.imagepath = [os.path.abspath('../data/')]\n",
    "sys.imagepath.append(os.path.abspath('../../../datasets/ia898/'))\n",
    "import numpy as np\n",
    "\n",
    "import nbpil"
   ]
  },
  {
   "cell_type": "code",
   "execution_count": 75,
   "metadata": {
    "collapsed": false
   },
   "outputs": [],
   "source": [
    "from cStringIO import StringIO\n",
    "from IPython.display import display, Image, HTML\n",
    "import base64\n",
    "import numpy as np\n",
    "import PIL # from PIL import Image\n",
    "def nbshow_grid(flist, title_list=None, fmt='png'):\n",
    "    imagesList = \"<head><style>\\\n",
    "        table, th, td { border: 0px solid black;\\\n",
    "        text-align: center;border-collapse: collapse;}</style></head>\\\n",
    "        <body><table border=\\\"0\\\"><tr>\"\n",
    "    for a,title in zip(flist,title_list):\n",
    "        if a.dtype == bool:\n",
    "            a = np.uint8(a) * 255\n",
    "        elif a.dtype != np.uint8:\n",
    "            raise ValueError('Accept only bool ou uint8 image. It was %s' % a.dtype) \n",
    "        f = StringIO()\n",
    "        fi = PIL.Image.fromarray(a)\n",
    "        fi.save(f, fmt)\n",
    "        imgbuffer = f.getvalue()\n",
    "        img_b64 = base64.b64encode(imgbuffer)\n",
    "        imagesList +=\"<td><table><tr><td>\\\n",
    "            <img src='data:image/png;base64,%s'/></td></tr>\\\n",
    "            <tr><td align='center'>%s</td></tr></table></td>\" % (img_b64,title)\n",
    "    imagesList +=\"</tr></table></body>\"\n",
    "    #print 'imagelist:',imagesList\n",
    "    display(HTML(imagesList))\n",
    "\n"
   ]
  },
  {
   "cell_type": "code",
   "execution_count": 76,
   "metadata": {
    "collapsed": false
   },
   "outputs": [
    {
     "data": {
      "text/html": [
       "<head><style>        table, th, td { border: 0px solid black;        text-align: center;border-collapse: collapse;}</style></head>        <body><table border=\"0\"><tr><td><table><tr><td>            <img src='data:image/png;base64,iVBORw0KGgoAAAANSUhEUgAAAQAAAAEACAAAAAB5Gfe6AAABy0lEQVR4nO3QQQ0AIAzAwC3Bv2WQcQ9aBc3NfN6uPsCdAPQBLoAA9AEugAD0AS6AAPQBLoAA9AEugAD0AS6AAPQBLoAA9AEugAD0AS6AAPQBLoAA9AEugAD0AS6AAPQBLoAA9AEugAD0AS6AAPQBLoAA9AEugAD0AS6AAPQBLoAA9AEugAD0AS6AAPQBLoAA9AEugAD0AS6AAPQBLoAA9AEugAD0AS6AAPQBLoAA9AEugAD0AS6AAPQBLoAA9AEugAD0AS6AAPQBLoAA9AEugAD0AS6AAPQBLoAA9AEugAD0AS6AAPQBLoAA9AEugAD0AS6AAPQBLoAA9AEugAD0AS6AAPQBLoAA9AEugAD0AS6AAPQBLoAA9AEugAD0AS6AAPQBLoAA9AEugAD0AS6AAPQBLoAA9AEugAD0AS6AAPQBLoAA9AEugAD0AS6AAPQBLoAA9AEugAD0AS6AAPQBLoAA9AEugAD0AS6AAPQBLoAA9AEugAD0AS6AAPQBLoAA9AEugAD0AS6AAPQBLoAA9AEugAD0AS6AAPQBLoAA9AEugAD0AS6AAPQBLoAA9AEugAD0AS6AAPQBLoAA9AEugAD0AS6A3wH26gPcAx3yBfS0uaLRAAAAAElFTkSuQmCC'/></td></tr>            <tr><td align='center'>a1</td></tr></table></td><td><table><tr><td>            <img src='data:image/png;base64,iVBORw0KGgoAAAANSUhEUgAAAQAAAAEACAAAAAB5Gfe6AAAByElEQVR4nO3QQQ0AIAzAQJbg3zLIuMdaBc3NO7u7AegDXAAB6ANcAAHoA1wAAegDXAAB6ANcAAHoA1wAAegDXAAB6ANcAAHoA1wAAegDXAAB6ANcAAHoA1wAAegDXAAB6ANcAAHoA1wAAegDXAAB6ANcAAHoA1wAAegDXAAB6ANcAAHoA1wAAegDXAAB6ANcAAHoA1wAAegDXAAB6ANcAAHoA1wAAegDXAAB6ANcAAHoA1wAAegDXAAB6ANcAAHoA1wAAegDXAAB6ANcAAHoA1wAAegDXAAB6ANcAAHoA1wAAegDXAAB6ANcAAHoA1wAAegDXAAB6ANcAAHoA1wAAegDXAAB6ANcAAHoA1wAAegDXAAB6ANcAAHoA1wAAegDXAAB6ANcAAHoA1wAAegDXAAB6ANcAAHoA1wAAegDXAAB6ANcAAHoA1wAAegDXAAB6ANcAAHoA1wAAegDXAAB6ANcAAHoA1wAAegDXAAB6ANcAAHoA1wAAegDXAAB6ANcAAHoA1wAAegDXAAB6ANcAAHoA1wAAegDXAAB6ANcAAHoA1wAAegDXAAB6ANcAAHoA1wAAegDXAAB6ANcAAHoA1wA2wFm9EHZPiBDAQmQBY3IAAAAAElFTkSuQmCC'/></td></tr>            <tr><td align='center'>a2</td></tr></table></td></tr></table></body>"
      ],
      "text/plain": [
       "<IPython.core.display.HTML object>"
      ]
     },
     "metadata": {},
     "output_type": "display_data"
    }
   ],
   "source": [
    "#a1 = nbpil.nbread('cameraman.tif')\n",
    "#a2 = nbpil.nbread('boat.tif')\n",
    "a1 = (np.arange(256).reshape((256,1)) * np.ones((1,256))).astype(np.uint8)\n",
    "a2 = a1[::-1,:]\n",
    "#nbpil.nbshow(a2)\n",
    "nbshow_grid([a1,a2],['a1','a2'])"
   ]
  },
  {
   "cell_type": "code",
   "execution_count": 33,
   "metadata": {
    "collapsed": false
   },
   "outputs": [
    {
     "data": {
      "text/html": [
       "<head><style>table, th, td {    border: 10px solid black;}</style></head><body><table border=\"0\"><tr><td>1</td><td>2</td></tr></table></body>"
      ],
      "text/plain": [
       "<IPython.core.display.HTML object>"
      ]
     },
     "metadata": {},
     "output_type": "display_data"
    }
   ],
   "source": [
    "display(HTML(\"<head>\\\n",
    "<style>\\\n",
    "table, th, td {\\\n",
    "    border: 10px solid black;\\\n",
    "}\\\n",
    "</style>\\\n",
    "</head>\\\n",
    "<body><table border=\\\"0\\\"><tr><td>1</td><td>2</td></tr></table></body>\"))"
   ]
  },
  {
   "cell_type": "code",
   "execution_count": 71,
   "metadata": {
    "collapsed": false
   },
   "outputs": [],
   "source": [
    "from cStringIO import StringIO\n",
    "from IPython.display import display, Image, HTML\n",
    "import base64\n",
    "import numpy as np\n",
    "import PIL\n",
    "\n",
    "class nbShow:\n",
    "    #constructor\n",
    "    def __init__(self, ncols = 3,imwidth = [], fmt = 'png'):\n",
    "        self.imgs = []\n",
    "        self.titles = []\n",
    "        self.ncols = ncols\n",
    "        self.imwidth = []   \n",
    "        self.fmt = fmt\n",
    "        return\n",
    "    #sets figure size. Ex figsize = (12,8)\n",
    "    def set_figsize(self,figsize):\n",
    "        self.figsize = figsize\n",
    "        return\n",
    "    #sets image width\n",
    "    def set_imwidth(self,imwidth):\n",
    "        self.imwidth = imwidth\n",
    "        return    \n",
    "    #displays image in subplot format \n",
    "    #append images to list of images to be displayed\n",
    "    def nbshow(self,img=None,title = \"\"):\n",
    "        if img is not None:\n",
    "            self.imgs.append(img)\n",
    "            self.titles.append(title)\n",
    "        else: \n",
    "            number_of_subplots = len(self.imgs)\n",
    "            imagesList = \"<head><style>\\\n",
    "                table, th, td { border: 0px solid black;\\\n",
    "                text-align: center;border-collapse: collapse;}</style></head>\\\n",
    "                <body><table border=\\\"0\\\">\"\n",
    "            for i,(img,title) in enumerate(zip(self.imgs,self.titles)): \n",
    "                if i%self.ncols == 0:\n",
    "                    imagesList += \"<tr>\"\n",
    "                f = StringIO()\n",
    "                fi = PIL.Image.fromarray(img)\n",
    "                fi.save(f, self.fmt)\n",
    "                imgbuffer = f.getvalue()\n",
    "                img_b64 = base64.b64encode(imgbuffer)\n",
    "                imagesList +=\"<td>\\\n",
    "                    <table><tr><td><img src='data:image/png;base64,%s'/></td></tr>\\\n",
    "                    <tr><td align='center'>%s</td></tr></table></td>\" % (img_b64,title)\n",
    "                if i%self.ncols == (self.ncols-1):\n",
    "                    imagesList += \"<tr>\"\n",
    "            imagesList +=\"</tr></table></body>\"\n",
    "            # empties buffer\n",
    "            self.imgs = []\n",
    "            self.titles = []\n",
    "            #print 'imagelist:',imagesList\n",
    "            display(HTML(imagesList))\n"
   ]
  },
  {
   "cell_type": "code",
   "execution_count": 74,
   "metadata": {
    "collapsed": false
   },
   "outputs": [
    {
     "data": {
      "text/html": [
       "<head><style>                table, th, td { border: 0px solid black;                text-align: center;border-collapse: collapse;}</style></head>                <body><table border=\"0\"><tr><td>                    <table><tr><td><img src='data:image/png;base64,iVBORw0KGgoAAAANSUhEUgAAAQAAAAEACAAAAAB5Gfe6AAABy0lEQVR4nO3QQQ0AIAzAwC3Bv2WQcQ9aBc3NfN6uPsCdAPQBLoAA9AEugAD0AS6AAPQBLoAA9AEugAD0AS6AAPQBLoAA9AEugAD0AS6AAPQBLoAA9AEugAD0AS6AAPQBLoAA9AEugAD0AS6AAPQBLoAA9AEugAD0AS6AAPQBLoAA9AEugAD0AS6AAPQBLoAA9AEugAD0AS6AAPQBLoAA9AEugAD0AS6AAPQBLoAA9AEugAD0AS6AAPQBLoAA9AEugAD0AS6AAPQBLoAA9AEugAD0AS6AAPQBLoAA9AEugAD0AS6AAPQBLoAA9AEugAD0AS6AAPQBLoAA9AEugAD0AS6AAPQBLoAA9AEugAD0AS6AAPQBLoAA9AEugAD0AS6AAPQBLoAA9AEugAD0AS6AAPQBLoAA9AEugAD0AS6AAPQBLoAA9AEugAD0AS6AAPQBLoAA9AEugAD0AS6AAPQBLoAA9AEugAD0AS6AAPQBLoAA9AEugAD0AS6AAPQBLoAA9AEugAD0AS6AAPQBLoAA9AEugAD0AS6AAPQBLoAA9AEugAD0AS6AAPQBLoAA9AEugAD0AS6AAPQBLoAA9AEugAD0AS6A3wH26gPcAx3yBfS0uaLRAAAAAElFTkSuQmCC'/></td></tr>                    <tr><td align='center'>a1</td></tr></table></td><td>                    <table><tr><td><img src='data:image/png;base64,iVBORw0KGgoAAAANSUhEUgAAAQAAAAEACAAAAAB5Gfe6AAAByElEQVR4nO3QQQ0AIAzAQJbg3zLIuMdaBc3NO7u7AegDXAAB6ANcAAHoA1wAAegDXAAB6ANcAAHoA1wAAegDXAAB6ANcAAHoA1wAAegDXAAB6ANcAAHoA1wAAegDXAAB6ANcAAHoA1wAAegDXAAB6ANcAAHoA1wAAegDXAAB6ANcAAHoA1wAAegDXAAB6ANcAAHoA1wAAegDXAAB6ANcAAHoA1wAAegDXAAB6ANcAAHoA1wAAegDXAAB6ANcAAHoA1wAAegDXAAB6ANcAAHoA1wAAegDXAAB6ANcAAHoA1wAAegDXAAB6ANcAAHoA1wAAegDXAAB6ANcAAHoA1wAAegDXAAB6ANcAAHoA1wAAegDXAAB6ANcAAHoA1wAAegDXAAB6ANcAAHoA1wAAegDXAAB6ANcAAHoA1wAAegDXAAB6ANcAAHoA1wAAegDXAAB6ANcAAHoA1wAAegDXAAB6ANcAAHoA1wAAegDXAAB6ANcAAHoA1wAAegDXAAB6ANcAAHoA1wAAegDXAAB6ANcAAHoA1wAAegDXAAB6ANcAAHoA1wAAegDXAAB6ANcAAHoA1wAAegDXAAB6ANcAAHoA1wA2wFm9EHZPiBDAQmQBY3IAAAAAElFTkSuQmCC'/></td></tr>                    <tr><td align='center'>a2</td></tr></table></td></tr></table></body>"
      ],
      "text/plain": [
       "<IPython.core.display.HTML object>"
      ]
     },
     "metadata": {},
     "output_type": "display_data"
    },
    {
     "data": {
      "text/html": [
       "<head><style>                table, th, td { border: 0px solid black;                text-align: center;border-collapse: collapse;}</style></head>                <body><table border=\"0\"><tr><td>                    <table><tr><td><img src='data:image/png;base64,iVBORw0KGgoAAAANSUhEUgAAAQAAAAEACAAAAAB5Gfe6AAABy0lEQVR4nO3QQQ0AIAzAwC3Bv2WQcQ9aBc3NfN6uPsCdAPQBLoAA9AEugAD0AS6AAPQBLoAA9AEugAD0AS6AAPQBLoAA9AEugAD0AS6AAPQBLoAA9AEugAD0AS6AAPQBLoAA9AEugAD0AS6AAPQBLoAA9AEugAD0AS6AAPQBLoAA9AEugAD0AS6AAPQBLoAA9AEugAD0AS6AAPQBLoAA9AEugAD0AS6AAPQBLoAA9AEugAD0AS6AAPQBLoAA9AEugAD0AS6AAPQBLoAA9AEugAD0AS6AAPQBLoAA9AEugAD0AS6AAPQBLoAA9AEugAD0AS6AAPQBLoAA9AEugAD0AS6AAPQBLoAA9AEugAD0AS6AAPQBLoAA9AEugAD0AS6AAPQBLoAA9AEugAD0AS6AAPQBLoAA9AEugAD0AS6AAPQBLoAA9AEugAD0AS6AAPQBLoAA9AEugAD0AS6AAPQBLoAA9AEugAD0AS6AAPQBLoAA9AEugAD0AS6AAPQBLoAA9AEugAD0AS6AAPQBLoAA9AEugAD0AS6AAPQBLoAA9AEugAD0AS6AAPQBLoAA9AEugAD0AS6AAPQBLoAA9AEugAD0AS6A3wH26gPcAx3yBfS0uaLRAAAAAElFTkSuQmCC'/></td></tr>                    <tr><td align='center'>a1</td></tr></table></td><td>                    <table><tr><td><img src='data:image/png;base64,iVBORw0KGgoAAAANSUhEUgAAAQAAAAEACAAAAAB5Gfe6AAABy0lEQVR4nO3QQQ0AIAzAwC3Bv2WQcQ9aBc3NfN6uPsCdAPQBLoAA9AEugAD0AS6AAPQBLoAA9AEugAD0AS6AAPQBLoAA9AEugAD0AS6AAPQBLoAA9AEugAD0AS6AAPQBLoAA9AEugAD0AS6AAPQBLoAA9AEugAD0AS6AAPQBLoAA9AEugAD0AS6AAPQBLoAA9AEugAD0AS6AAPQBLoAA9AEugAD0AS6AAPQBLoAA9AEugAD0AS6AAPQBLoAA9AEugAD0AS6AAPQBLoAA9AEugAD0AS6AAPQBLoAA9AEugAD0AS6AAPQBLoAA9AEugAD0AS6AAPQBLoAA9AEugAD0AS6AAPQBLoAA9AEugAD0AS6AAPQBLoAA9AEugAD0AS6AAPQBLoAA9AEugAD0AS6AAPQBLoAA9AEugAD0AS6AAPQBLoAA9AEugAD0AS6AAPQBLoAA9AEugAD0AS6AAPQBLoAA9AEugAD0AS6AAPQBLoAA9AEugAD0AS6AAPQBLoAA9AEugAD0AS6AAPQBLoAA9AEugAD0AS6AAPQBLoAA9AEugAD0AS6AAPQBLoAA9AEugAD0AS6AAPQBLoAA9AEugAD0AS6A3wH26gPcAx3yBfS0uaLRAAAAAElFTkSuQmCC'/></td></tr>                    <tr><td align='center'>a1a2</td></tr></table></td><td>                    <table><tr><td><img src='data:image/png;base64,iVBORw0KGgoAAAANSUhEUgAAAQAAAAEACAAAAAB5Gfe6AAAByElEQVR4nO3QQQ0AIAzAQJbg3zLIuMdaBc3NO7u7AegDXAAB6ANcAAHoA1wAAegDXAAB6ANcAAHoA1wAAegDXAAB6ANcAAHoA1wAAegDXAAB6ANcAAHoA1wAAegDXAAB6ANcAAHoA1wAAegDXAAB6ANcAAHoA1wAAegDXAAB6ANcAAHoA1wAAegDXAAB6ANcAAHoA1wAAegDXAAB6ANcAAHoA1wAAegDXAAB6ANcAAHoA1wAAegDXAAB6ANcAAHoA1wAAegDXAAB6ANcAAHoA1wAAegDXAAB6ANcAAHoA1wAAegDXAAB6ANcAAHoA1wAAegDXAAB6ANcAAHoA1wAAegDXAAB6ANcAAHoA1wAAegDXAAB6ANcAAHoA1wAAegDXAAB6ANcAAHoA1wAAegDXAAB6ANcAAHoA1wAAegDXAAB6ANcAAHoA1wAAegDXAAB6ANcAAHoA1wAAegDXAAB6ANcAAHoA1wAAegDXAAB6ANcAAHoA1wAAegDXAAB6ANcAAHoA1wAAegDXAAB6ANcAAHoA1wAAegDXAAB6ANcAAHoA1wAAegDXAAB6ANcAAHoA1wAAegDXAAB6ANcAAHoA1wA2wFm9EHZPiBDAQmQBY3IAAAAAElFTkSuQmCC'/></td></tr>                    <tr><td align='center'>a2</td></tr></table></td><tr></tr></table></body>"
      ],
      "text/plain": [
       "<IPython.core.display.HTML object>"
      ]
     },
     "metadata": {},
     "output_type": "display_data"
    }
   ],
   "source": [
    "nb = nbShow(ncols=3)\n",
    "nb.nbshow(a1,'a1')\n",
    "nb.nbshow(a2,'a2')\n",
    "nb.nbshow()\n",
    "nb.nbshow(a1,'a1')\n",
    "nb.nbshow(a1,'a1a2')\n",
    "nb.nbshow(a2,'a2')\n",
    "nb.nbshow()"
   ]
  }
 ],
 "metadata": {
  "anaconda-cloud": {},
  "kernelspec": {
   "display_name": "Python [Root]",
   "language": "python",
   "name": "Python [Root]"
  },
  "language_info": {
   "codemirror_mode": {
    "name": "ipython",
    "version": 2
   },
   "file_extension": ".py",
   "mimetype": "text/x-python",
   "name": "python",
   "nbconvert_exporter": "python",
   "pygments_lexer": "ipython2",
   "version": "2.7.12"
  }
 },
 "nbformat": 4,
 "nbformat_minor": 0
}
