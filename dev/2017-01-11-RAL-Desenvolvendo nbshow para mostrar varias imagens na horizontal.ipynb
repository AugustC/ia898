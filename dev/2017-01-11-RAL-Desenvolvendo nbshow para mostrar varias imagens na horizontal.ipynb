{
 "cells": [
  {
   "cell_type": "code",
   "execution_count": 1,
   "metadata": {
    "collapsed": true
   },
   "outputs": [],
   "source": [
    "import sys,os\n",
    "sys.path.append(os.path.abspath('../src/')) # para importar nbpil\n",
    "try:\n",
    "    sys.imagepath.append(os.path.abspath('../data/')) # caminho para imagens\n",
    "except:\n",
    "    sys.imagepath = [os.path.abspath('../data/')]\n",
    "sys.imagepath.append(os.path.abspath('../../../datasets/ia898/'))\n",
    "import numpy as np\n",
    "\n",
    "import nbpil"
   ]
  },
  {
   "cell_type": "code",
   "execution_count": 42,
   "metadata": {
    "collapsed": false
   },
   "outputs": [],
   "source": [
    "from cStringIO import StringIO\n",
    "from IPython.display import display, Image, HTML\n",
    "import base64\n",
    "import cv2\n",
    "import numpy as np\n",
    "import PIL # from PIL import Image\n",
    "def nbshow_grid(flist, title=None, fmt='png'):\n",
    "    imagesList = \"<table border=\\\"0\\\"><tr>\"\n",
    "    #imagesList = \"<table><tr>\"\n",
    "    for a in flist:\n",
    "        if a.dtype == bool:\n",
    "            a = np.uint8(a) * 255\n",
    "        elif a.dtype != np.uint8:\n",
    "            raise ValueError('Accept only bool ou uint8 image. It was %s' % a.dtype) \n",
    "        f = StringIO()\n",
    "        fi = PIL.Image.fromarray(a)\n",
    "        fi.save(f, fmt)\n",
    "        #display(Image(data=f.getvalue()))\n",
    "        if title:\n",
    "            print(title)\n",
    "\n",
    "        ret, imgbuffer = cv2.imencode('.png', a)   # img: numpy array\n",
    "        img_b64 = base64.b64encode(imgbuffer)\n",
    "        imagesList +=\"<td><img src='data:image/png;base64,%s'/></td>\" % (img_b64,)\n",
    "    imagesList +=\"</tr></table>\"\n",
    "    print 'imagelist:',imagesList\n",
    "    display(HTML(imagesList))\n",
    "\n"
   ]
  },
  {
   "cell_type": "code",
   "execution_count": 43,
   "metadata": {
    "collapsed": false
   },
   "outputs": [
    {
     "name": "stdout",
     "output_type": "stream",
     "text": [
      "imagelist: <table border=\"0\"><tr><td><img src='data:image/png;base64,iVBORw0KGgoAAAANSUhEUgAAAQAAAAEACAAAAAB5Gfe6AAAC40lEQVR4AeXBAwIgBgDAsHa2bdu2bdu2rZtt27Zt27Zte3tIE4lT2hyINgemzUFoc1DaHIw2B6fNIWhzSNocijaHps1haHNY2hyONoenzRFoc0TaHIk2R6bNUWhzVNocjTZHp80xaHNM2hyLNsemzXFoc1zaHI82x6fNCWhzQtqciDYnps1JaHNS2pyMNienzSloc0ranIo2p6bNaWhzWtqcjjanp80ZaHNG2pyJNmemzVloc1banI02Z6fNOWhzTtqcizbnps15aHNe2pyPNuenzQVoc0HaXIg2F6bNRWhzUdpcjDYXp80laHNJ2lyKNpemzWVoc1naXI42l6fNFWhzRdpciTZXps1VaHNV2lyNNlenzTVoc03aXIs216bNdWhzXdpcjzbXp80NaHND2tyINjemzU1oc1Pa3Iw2N6fNLWhzS9rcija3ps1taHNb2tyONrenzR1oc0fa3Ik2d6bNXWhzV9rcjTZ3p809aHNP2tyLNvemzX1oc1/a3I82B9Dm/rR5AG0eSJsH0ebBtHkIbR5Km4fR5uG0eQRtHkmbR9Hm0bR5DG0eS5vH0ebxtHkCbZ5ImyfR5sm0eQptnkqbp9Hm6bR5Bm2eSZtn0ebZtHkObZ5Lm+fR5vm0eQFtXkibF9HmxbR5CW1eSpuX0ebltHkFbV5Jm1fR5tW0eQ1tXkub19Hm9bR5A23eSJs30ebNtHkLbd5Km7fR5u20eQdt3kmbd9Hm3bR5D23eS5v30eb9tPkAbT5Imw/R5sO0+QhtPkqbj9Hm47T5BG0+SZtP0ebTtPkMbT5Lm8/R5vO0+QJtvkibL9Hmy7T5Cm2+Spuv0ebrtPkGbb5Jm2/R5tu0+Q5tvkub79Hm+7T5AW1+SJsf0ebHtPkJbX5Km5/R5ue0+QVtfkmbX9Hm17T5DW1+S5vf0eb3tPkDbf5Imz/R5s+0+Qtt/kqbv9Hm77T5B23+SZt/0ebftPkPbf5Lm//R9j82t4CBLdmlpAAAAABJRU5ErkJggg=='/></td><td><img src='data:image/png;base64,iVBORw0KGgoAAAANSUhEUgAAAQAAAAEACAAAAAB5Gfe6AAAC40lEQVR4AeXBAwIgBgDAsHa2bdu2bdu2rZtt27Zt27Zte3tIE/+jzX9p8x/a/Js2/6LNP2nzD9r8nTZ/o81fafMX2vyZNn+izR9p8wfa/J42v6PNb2nzG9r8mja/os0vafML2vycNj+jzU9p8xPa/Jg2P6LND2nzA9p8nzbfo813afMd2nybNt+izTdp8w3afJ02X6PNV2nzFdp8mTZfos0XafMF2nyeNp+jzWdp8xnafJo2n6LNJ2nzCdp8nDYfo81HafMR2nyYNh+izQdp8wHavJ8276PNe2nzHtq8mzbvos07afMO2rydNm+jzVtp8xbavJk2b6LNG2nzBtq8njavo81rafMa2ryaNq+izStp8wravJw2L6PNS2nzEtq8mDYvos0LafMC2jyfNs+jzXNp8xzaPJs2z6LNM2nzDNo8nTZPo81TafMU2jyZNk+izRNp8wTaPJ42j6PNY2nzGNo8mjaPos0jafMI2jycNg+jzUNp8xDaPJg2D6LNA2nzANrcnzYH0OZ+tLkvbe5Dm3vT5l60uSdt7kGbu9PmbrS5K23uQps70+ZOtLkjbe5Am9vT5na0uS1tbkObW9PmVrS5JW1uQZub0+ZmtLkpbW5CmxvT5ka0uSFtbkCb69PmerS5Lm2uQ5tr0+ZatLkmba5Bm6vT5mq0uSptrkKbK9PmSrS5Im2uQJvL0+ZytLksbS5Dm0vT5lK0uSRtLkGbi9PmYrS5KG0uQpsL0+ZCtLkgbS5Am/PT5ny0OS9tzkObc9PmXLQ5J23OQZuz0+ZstDkrbc5CmzPT5ky0OSNtzkCb09PmdLQ5LW1OQ5tT0+ZUtDklbU5Bm5PT5mS0OSltTkKbE9PmRLQ5IW1OQJvj0+Z4tDkubY5Dm2PT5li0OSZtjkGbo9PmaLQ5Km2OQpsj0+ZItDkibY5Am8PT5nC0OSxtDkObQ9PmULQ5JG0OQZuD0+ZgtDkobQ5CmwPT5kC0KW0S9z/j0ICBcfyZiAAAAABJRU5ErkJggg=='/></td></tr></table>\n"
     ]
    },
    {
     "data": {
      "text/html": [
       "<table border=\"0\"><tr><td><img src='data:image/png;base64,iVBORw0KGgoAAAANSUhEUgAAAQAAAAEACAAAAAB5Gfe6AAAC40lEQVR4AeXBAwIgBgDAsHa2bdu2bdu2rZtt27Zt27Zte3tIE4lT2hyINgemzUFoc1DaHIw2B6fNIWhzSNocijaHps1haHNY2hyONoenzRFoc0TaHIk2R6bNUWhzVNocjTZHp80xaHNM2hyLNsemzXFoc1zaHI82x6fNCWhzQtqciDYnps1JaHNS2pyMNienzSloc0ranIo2p6bNaWhzWtqcjjanp80ZaHNG2pyJNmemzVloc1banI02Z6fNOWhzTtqcizbnps15aHNe2pyPNuenzQVoc0HaXIg2F6bNRWhzUdpcjDYXp80laHNJ2lyKNpemzWVoc1naXI42l6fNFWhzRdpciTZXps1VaHNV2lyNNlenzTVoc03aXIs216bNdWhzXdpcjzbXp80NaHND2tyINjemzU1oc1Pa3Iw2N6fNLWhzS9rcija3ps1taHNb2tyONrenzR1oc0fa3Ik2d6bNXWhzV9rcjTZ3p809aHNP2tyLNvemzX1oc1/a3I82B9Dm/rR5AG0eSJsH0ebBtHkIbR5Km4fR5uG0eQRtHkmbR9Hm0bR5DG0eS5vH0ebxtHkCbZ5ImyfR5sm0eQptnkqbp9Hm6bR5Bm2eSZtn0ebZtHkObZ5Lm+fR5vm0eQFtXkibF9HmxbR5CW1eSpuX0ebltHkFbV5Jm1fR5tW0eQ1tXkub19Hm9bR5A23eSJs30ebNtHkLbd5Km7fR5u20eQdt3kmbd9Hm3bR5D23eS5v30eb9tPkAbT5Imw/R5sO0+QhtPkqbj9Hm47T5BG0+SZtP0ebTtPkMbT5Lm8/R5vO0+QJtvkibL9Hmy7T5Cm2+Spuv0ebrtPkGbb5Jm2/R5tu0+Q5tvkub79Hm+7T5AW1+SJsf0ebHtPkJbX5Km5/R5ue0+QVtfkmbX9Hm17T5DW1+S5vf0eb3tPkDbf5Imz/R5s+0+Qtt/kqbv9Hm77T5B23+SZt/0ebftPkPbf5Lm//R9j82t4CBLdmlpAAAAABJRU5ErkJggg=='/></td><td><img src='data:image/png;base64,iVBORw0KGgoAAAANSUhEUgAAAQAAAAEACAAAAAB5Gfe6AAAC40lEQVR4AeXBAwIgBgDAsHa2bdu2bdu2rZtt27Zt27Zte3tIE/+jzX9p8x/a/Js2/6LNP2nzD9r8nTZ/o81fafMX2vyZNn+izR9p8wfa/J42v6PNb2nzG9r8mja/os0vafML2vycNj+jzU9p8xPa/Jg2P6LND2nzA9p8nzbfo813afMd2nybNt+izTdp8w3afJ02X6PNV2nzFdp8mTZfos0XafMF2nyeNp+jzWdp8xnafJo2n6LNJ2nzCdp8nDYfo81HafMR2nyYNh+izQdp8wHavJ8276PNe2nzHtq8mzbvos07afMO2rydNm+jzVtp8xbavJk2b6LNG2nzBtq8njavo81rafMa2ryaNq+izStp8wravJw2L6PNS2nzEtq8mDYvos0LafMC2jyfNs+jzXNp8xzaPJs2z6LNM2nzDNo8nTZPo81TafMU2jyZNk+izRNp8wTaPJ42j6PNY2nzGNo8mjaPos0jafMI2jycNg+jzUNp8xDaPJg2D6LNA2nzANrcnzYH0OZ+tLkvbe5Dm3vT5l60uSdt7kGbu9PmbrS5K23uQps70+ZOtLkjbe5Am9vT5na0uS1tbkObW9PmVrS5JW1uQZub0+ZmtLkpbW5CmxvT5ka0uSFtbkCb69PmerS5Lm2uQ5tr0+ZatLkmba5Bm6vT5mq0uSptrkKbK9PmSrS5Im2uQJvL0+ZytLksbS5Dm0vT5lK0uSRtLkGbi9PmYrS5KG0uQpsL0+ZCtLkgbS5Am/PT5ny0OS9tzkObc9PmXLQ5J23OQZuz0+ZstDkrbc5CmzPT5ky0OSNtzkCb09PmdLQ5LW1OQ5tT0+ZUtDklbU5Bm5PT5mS0OSltTkKbE9PmRLQ5IW1OQJvj0+Z4tDkubY5Dm2PT5li0OSZtjkGbo9PmaLQ5Km2OQpsj0+ZItDkibY5Am8PT5nC0OSxtDkObQ9PmULQ5JG0OQZuD0+ZgtDkobQ5CmwPT5kC0KW0S9z/j0ICBcfyZiAAAAABJRU5ErkJggg=='/></td></tr></table>"
      ],
      "text/plain": [
       "<IPython.core.display.HTML object>"
      ]
     },
     "metadata": {},
     "output_type": "display_data"
    }
   ],
   "source": [
    "#a1 = nbpil.nbread('cameraman.tif')\n",
    "#a2 = nbpil.nbread('boat.tif')\n",
    "a1 = (np.arange(256).reshape((256,1)) * np.ones((1,256))).astype(np.uint8)\n",
    "a2 = a1[::-1,:]\n",
    "#nbpil.nbshow(a2)\n",
    "nbshow_grid([a1,a2])"
   ]
  },
  {
   "cell_type": "code",
   "execution_count": 50,
   "metadata": {
    "collapsed": false
   },
   "outputs": [
    {
     "data": {
      "text/html": [
       "<head><style>table, th, td {    border: 10px solid black;}</style></head><body><table border=\"0\"><tr><td>1</td><td>2</td></tr></table></body>"
      ],
      "text/plain": [
       "<IPython.core.display.HTML object>"
      ]
     },
     "metadata": {},
     "output_type": "display_data"
    }
   ],
   "source": [
    "display(HTML(\"<head>\\\n",
    "<style>\\\n",
    "table, th, td {\\\n",
    "    border: 10px solid black;\\\n",
    "}\\\n",
    "</style>\\\n",
    "</head>\\\n",
    "<body><table border=\\\"0\\\"><tr><td>1</td><td>2</td></tr></table></body>\"))"
   ]
  }
 ],
 "metadata": {
  "anaconda-cloud": {},
  "kernelspec": {
   "display_name": "Python [Root]",
   "language": "python",
   "name": "Python [Root]"
  },
  "language_info": {
   "codemirror_mode": {
    "name": "ipython",
    "version": 2
   },
   "file_extension": ".py",
   "mimetype": "text/x-python",
   "name": "python",
   "nbconvert_exporter": "python",
   "pygments_lexer": "ipython2",
   "version": "2.7.12"
  }
 },
 "nbformat": 4,
 "nbformat_minor": 0
}
