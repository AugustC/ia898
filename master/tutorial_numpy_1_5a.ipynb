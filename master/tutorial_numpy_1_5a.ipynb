{
 "cells": [
  {
   "cell_type": "markdown",
   "metadata": {
    "toc": "true"
   },
   "source": [
    "# Table of Contents\n",
    " <p><div class=\"lev1 toc-item\"><a href=\"#Introdução-ao-NumPy---Redução-de-eixo\" data-toc-modified-id=\"Introdução-ao-NumPy---Redução-de-eixo-1\"><span class=\"toc-item-num\">1&nbsp;&nbsp;</span>Introdução ao NumPy - Redução de eixo</a></div><div class=\"lev2 toc-item\"><a href=\"#Operação-combinando-todos-os-pixels\" data-toc-modified-id=\"Operação-combinando-todos-os-pixels-11\"><span class=\"toc-item-num\">1.1&nbsp;&nbsp;</span>Operação combinando todos os pixels</a></div><div class=\"lev2 toc-item\"><a href=\"#Operação-combinando-eixos-(redução-de-eixo)\" data-toc-modified-id=\"Operação-combinando-eixos-(redução-de-eixo)-12\"><span class=\"toc-item-num\">1.2&nbsp;&nbsp;</span>Operação combinando eixos (redução de eixo)</a></div><div class=\"lev2 toc-item\"><a href=\"#Outros-exemplos-numéricos\" data-toc-modified-id=\"Outros-exemplos-numéricos-13\"><span class=\"toc-item-num\">1.3&nbsp;&nbsp;</span>Outros exemplos numéricos</a></div><div class=\"lev2 toc-item\"><a href=\"#Redução-no-eixo-com-aplicações-em-imagens\" data-toc-modified-id=\"Redução-no-eixo-com-aplicações-em-imagens-14\"><span class=\"toc-item-num\">1.4&nbsp;&nbsp;</span>Redução no eixo com aplicações em imagens</a></div>"
   ]
  },
  {
   "cell_type": "markdown",
   "metadata": {},
   "source": [
    "# Introdução ao NumPy - Redução de eixo\n",
    "\n",
    "## Operação combinando todos os pixels\n",
    "\n",
    "(.. comentario ATENCAO este tutorial precisa ser revisto procurando utilizar o ufunc.reduce.)\n",
    "\n",
    "Existem várias funções que calculam valores estatísticos da imagem, como valor máximo, valor médio, \n",
    "soma, entre outras, que permitem sua aplicação em todos os pixels resultando num valor escalar único.\n",
    "\n",
    "Vejam alguns exemplos de cálculo do máximo valor do array, valor médio e somatório de todos os valores:"
   ]
  },
  {
   "cell_type": "code",
   "execution_count": null,
   "metadata": {
    "collapsed": true
   },
   "outputs": [],
   "source": [
    "import numpy as np\n",
    "\n",
    "a = adreadgray('cameraman.tif')[:5*20:20,:4*20:20]\n",
    "print(\"a = \\n\", a)\n",
    "print('a.max()=',  a.max())\n",
    "print('a.mean()=', a.mean())\n",
    "print('a.sum()=',  a.sum())"
   ]
  },
  {
   "cell_type": "markdown",
   "metadata": {},
   "source": [
    "A título de curiosidade, em processamento paralelo, fazer este tipo de operação, que acumula um \n",
    "único valor a partir dos valores de cada pixel é uma das operações mais ineficientes, pois\n",
    "existe o gargalo que todos os pixels precisam ser acumulados numa única variável. Este tipo\n",
    "de operação, em processamento paralelo, é denominada ``redução``, pois você reduz todos os\n",
    "elementos do ``ndarray`` a um único valor."
   ]
  },
  {
   "cell_type": "markdown",
   "metadata": {},
   "source": [
    "## Operação combinando eixos (redução de eixo)\n",
    "    \n",
    "É possível também fazer estas operações que combinam os pixels, apenas em alguns eixos, isto é \n",
    "denominado redução de eixo. Para se conseguir isto, basta utilizar como parâmetro da função\n",
    "usada para a combinação dos valores o eixo em que os valores serão calculados. Assim, se a\n",
    "imagem for bidimensional, eixos 0 (linhas) e 1 (colunas), se quisermos combinar na direção\n",
    "das linhas utilizamos 0 como parâmetro e se quisermos acumular na direção das colunas, utilizamos\n",
    "um como parâmetro. Existem vários métodos que podem ser utilizados.\n",
    "Vejamos os exemplos a seguir:\n",
    "    "
   ]
  },
  {
   "cell_type": "code",
   "execution_count": null,
   "metadata": {
    "collapsed": true
   },
   "outputs": [],
   "source": [
    "print('a =\\n',a)\n",
    "print('a.shape = ', a.shape)\n",
    "print('a.max(0) = ', a.max(0))\n",
    "print('a.max(0).shape = ', a.max(0).shape)\n",
    "print('a.max(1) = ', a.max(1))\n",
    "print('a.max(1).shape = ', a.max(1).shape)"
   ]
  },
  {
   "cell_type": "markdown",
   "metadata": {},
   "source": [
    "Note que ``a.max(0)`` opera no eixo das linhas, resultando o valor máximo de cada coluna. O\n",
    "resultado possui 4 elementos que é o número de colunas de ``a``. Note que o shape foi reduzido de (5,4) para (4,), pois a\n",
    "operação se deu na dimensão 0.\n",
    "\n",
    "Já o ``a.max(1)`` opera na direção do eixo nas colunas, resultando o máximo em cada linha. \n",
    "O shape reduziu de (5,4) para (5,).\n",
    "\n",
    "## Outros exemplos numéricos\n",
    "\n",
    "A seguir outros exemplos reduzindo o eixo 0 (linhas). Em todos os exemplos a seguir, como a redução\n",
    "se dá no eixo 0, o vetor resultante terá shape (4,), pois o eixo 0 do shape (5,4) de ``a``."
   ]
  },
  {
   "cell_type": "code",
   "execution_count": null,
   "metadata": {
    "collapsed": true
   },
   "outputs": [],
   "source": [
    "print('a =\\n',a)\n",
    "print('a.mean(0) = ', a.mean(0))\n",
    "print('a.min(0) = ', a.min(0))\n",
    "print('a.sum(0) = ', a.sum(0))\n",
    "print('a.cumsum(0) = ', a.cumsum(0)) # soma acumulada"
   ]
  },
  {
   "cell_type": "markdown",
   "metadata": {},
   "source": [
    "## Redução no eixo com aplicações em imagens\n",
    "\n",
    "No exemplo abaixo, calculamos o perfil médio das colunas numa imagem que \n",
    "representa um recorte de uma parte de uma calculadora.\n",
    "\n",
    "O perfil médio dos pixels é calculado com a operação de ``mean(0)`` para se fazer a redução\n",
    "da dimensão 0 (linhas). Veja a interpretação da curva no gráfico. As teclas são escuras, porém as\n",
    "letras são bem claras dando um valor médio \n",
    "mais baixo que o fundo das teclas que possui um nível de cinza maior. Observe que ``mean(0)``\n",
    "irá calcular a média de cada coluna, assim, o ``hmean[0]`` abaixo será a média de todos os pixels\n",
    "da primeira coluna, o ``hmean[1]``, a média de todos os pixels da segunda coluna de ``f`` e \n",
    "assim por diante. Veja que a operação sendo na direção das linhas (eixo 0), podemos interpretar\n",
    "que o resultado é uma linha horizontal média da imagem ou é uma linha onde cada elemento é a\n",
    "média dos pixels de cada coluna da imagem.  "
   ]
  },
  {
   "cell_type": "code",
   "execution_count": null,
   "metadata": {
    "collapsed": true
   },
   "outputs": [],
   "source": [
    "import ia636 as ia\n",
    "f = adreadgray('keyb.tif')\n",
    "adshow(f,'f: shape(%d,%d)' % (f.shape[0], f.shape[1]))\n",
    "hmean = f.mean(0)\n",
    "adshow(ia.iaplot(hmean,ylabel='intensidade',xlabel='coluna'),'f.mean(0), valor médio de cada coluna')"
   ]
  },
  {
   "cell_type": "markdown",
   "metadata": {},
   "source": [
    "Veja o exemplo similar, mas agora calculando os valores mínimos de cada coluna. "
   ]
  },
  {
   "cell_type": "code",
   "execution_count": null,
   "metadata": {
    "collapsed": true
   },
   "outputs": [],
   "source": [
    "import ia636 as ia\n",
    "\n",
    "f = adreadgray('keyb.tif')\n",
    "adshow(f,'f: shape(%d,%d)' % (f.shape[0], f.shape[1]))\n",
    "hmin = f.min(0)\n",
    "adshow(ia.iaplot(hmin,ylabel='intensidade mínima',xlabel='coluna'),'f.min(0), valor mínimo de cada coluna')"
   ]
  }
 ],
 "metadata": {
  "kernelspec": {
   "display_name": "Python 3",
   "language": "python",
   "name": "python3"
  },
  "language_info": {
   "codemirror_mode": {
    "name": "ipython",
    "version": 3
   },
   "file_extension": ".py",
   "mimetype": "text/x-python",
   "name": "python",
   "nbconvert_exporter": "python",
   "pygments_lexer": "ipython3",
   "version": "3.6.0"
  },
  "toc": {
   "colors": {
    "hover_highlight": "#DAA520",
    "running_highlight": "#FF0000",
    "selected_highlight": "#FFD700"
   },
   "moveMenuLeft": true,
   "nav_menu": {
    "height": "117px",
    "width": "252px"
   },
   "navigate_menu": true,
   "number_sections": true,
   "sideBar": true,
   "threshold": 4,
   "toc_cell": true,
   "toc_section_display": "block",
   "toc_window_display": true
  }
 },
 "nbformat": 4,
 "nbformat_minor": 2
}
