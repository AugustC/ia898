{
 "cells": [
  {
   "cell_type": "markdown",
   "metadata": {
    "toc": "true"
   },
   "source": [
    "# Table of Contents\n",
    " <p><div class=\"lev1 toc-item\"><a href=\"#Numpy:-Funções-indices-e-meshgrid\" data-toc-modified-id=\"Numpy:-Funções-indices-e-meshgrid-1\"><span class=\"toc-item-num\">1&nbsp;&nbsp;</span>Numpy: Funções indices e meshgrid</a></div><div class=\"lev2 toc-item\"><a href=\"#Operador-indices-em-pequenos-exemplos-numéricos\" data-toc-modified-id=\"Operador-indices-em-pequenos-exemplos-numéricos-11\"><span class=\"toc-item-num\">1.1&nbsp;&nbsp;</span>Operador indices em pequenos exemplos numéricos</a></div><div class=\"lev2 toc-item\"><a href=\"#Operador-indices-em-exemplo-de-imagens-sintéticas\" data-toc-modified-id=\"Operador-indices-em-exemplo-de-imagens-sintéticas-12\"><span class=\"toc-item-num\">1.2&nbsp;&nbsp;</span>Operador indices em exemplo de imagens sintéticas</a></div><div class=\"lev2 toc-item\"><a href=\"#Soma\" data-toc-modified-id=\"Soma-13\"><span class=\"toc-item-num\">1.3&nbsp;&nbsp;</span>Soma</a></div><div class=\"lev2 toc-item\"><a href=\"#Subtração\" data-toc-modified-id=\"Subtração-14\"><span class=\"toc-item-num\">1.4&nbsp;&nbsp;</span>Subtração</a></div><div class=\"lev2 toc-item\"><a href=\"#Xadrez\" data-toc-modified-id=\"Xadrez-15\"><span class=\"toc-item-num\">1.5&nbsp;&nbsp;</span>Xadrez</a></div><div class=\"lev2 toc-item\"><a href=\"#Reta\" data-toc-modified-id=\"Reta-16\"><span class=\"toc-item-num\">1.6&nbsp;&nbsp;</span>Reta</a></div><div class=\"lev2 toc-item\"><a href=\"#Parábola\" data-toc-modified-id=\"Parábola-17\"><span class=\"toc-item-num\">1.7&nbsp;&nbsp;</span>Parábola</a></div><div class=\"lev2 toc-item\"><a href=\"#Círculo\" data-toc-modified-id=\"Círculo-18\"><span class=\"toc-item-num\">1.8&nbsp;&nbsp;</span>Círculo</a></div><div class=\"lev2 toc-item\"><a href=\"#Meshgrid\" data-toc-modified-id=\"Meshgrid-19\"><span class=\"toc-item-num\">1.9&nbsp;&nbsp;</span>Meshgrid</a></div><div class=\"lev2 toc-item\"><a href=\"#Gerando-os-vetores-com-linspace\" data-toc-modified-id=\"Gerando-os-vetores-com-linspace-110\"><span class=\"toc-item-num\">1.10&nbsp;&nbsp;</span>Gerando os vetores com linspace</a></div><div class=\"lev2 toc-item\"><a href=\"#Exemplo-na-geração-da-imagem-sinc-com-meshgrid\" data-toc-modified-id=\"Exemplo-na-geração-da-imagem-sinc-com-meshgrid-111\"><span class=\"toc-item-num\">1.11&nbsp;&nbsp;</span>Exemplo na geração da imagem sinc com meshgrid</a></div><div class=\"lev2 toc-item\"><a href=\"#Exemplo-na-geração-da-imagem-sinc-com-indices\" data-toc-modified-id=\"Exemplo-na-geração-da-imagem-sinc-com-indices-112\"><span class=\"toc-item-num\">1.12&nbsp;&nbsp;</span>Exemplo na geração da imagem sinc com indices</a></div><div class=\"lev2 toc-item\"><a href=\"#Documentação-Oficial-Numpy\" data-toc-modified-id=\"Documentação-Oficial-Numpy-113\"><span class=\"toc-item-num\">1.13&nbsp;&nbsp;</span>Documentação Oficial Numpy</a></div><div class=\"lev2 toc-item\"><a href=\"#Referências\" data-toc-modified-id=\"Referências-114\"><span class=\"toc-item-num\">1.14&nbsp;&nbsp;</span>Referências</a></div><div class=\"lev2 toc-item\"><a href=\"#Para-usuários-avançados\" data-toc-modified-id=\"Para-usuários-avançados-115\"><span class=\"toc-item-num\">1.15&nbsp;&nbsp;</span>Para usuários avançados</a></div><div class=\"lev2 toc-item\"><a href=\"#Exemplos-com-Imagem\" data-toc-modified-id=\"Exemplos-com-Imagem-116\"><span class=\"toc-item-num\">1.16&nbsp;&nbsp;</span>Exemplos com Imagem</a></div>"
   ]
  },
  {
   "cell_type": "markdown",
   "metadata": {},
   "source": [
    "# Numpy: Funções indices e meshgrid\n",
    "\n",
    "As funções ``indices`` e ``meshgrid`` são extremamente úteis na geração de imagens sintéticas e o seu aprendizado permite também\n",
    "entender as vantagens de programação matricial, evitando-se a varredura seqüencial da imagem muito usual na programação na linguagem C.\n",
    "\n",
    "## Operador indices em pequenos exemplos numéricos\n",
    "\n",
    "A função ``indices`` recebe como parâmetros uma tupla com as dimensões (H,W) das matrizes a serem criadas. No exemplo a seguir, estamos\n",
    "gerando matrizes de 5 linhas e 10 colunas. Esta função retorna uma tupla de duas matrizes que podem ser obtidas fazendo suas atribuições\n",
    "como no exemplo a seguir onde criamos as matrizes ``r`` e ``c``, ambas de tamanho (5,10), isto é, 5 linhas e 10 colunas:"
   ]
  },
  {
   "cell_type": "code",
   "execution_count": 20,
   "metadata": {
    "collapsed": false
   },
   "outputs": [
    {
     "name": "stdout",
     "output_type": "stream",
     "text": [
      "r=\n",
      " [[0 0 0 0 0 0 0 0 0 0]\n",
      " [1 1 1 1 1 1 1 1 1 1]\n",
      " [2 2 2 2 2 2 2 2 2 2]\n",
      " [3 3 3 3 3 3 3 3 3 3]\n",
      " [4 4 4 4 4 4 4 4 4 4]]\n",
      "c=\n",
      " [[0 1 2 3 4 5 6 7 8 9]\n",
      " [0 1 2 3 4 5 6 7 8 9]\n",
      " [0 1 2 3 4 5 6 7 8 9]\n",
      " [0 1 2 3 4 5 6 7 8 9]\n",
      " [0 1 2 3 4 5 6 7 8 9]]\n"
     ]
    }
   ],
   "source": [
    "import numpy as np\n",
    "r,c = np.indices( (5, 10) )\n",
    "print('r=\\n', r)\n",
    "print('c=\\n', c)"
   ]
  },
  {
   "cell_type": "markdown",
   "metadata": {},
   "source": [
    "Note que a matriz ``r`` é uma matriz onde cada elemento é a sua coordenada linha e a matriz ``c`` é uma matriz onde cada elemento é\n",
    "a sua coordenada coluna. Desta forma, qualquer operação matricial feita com ``r`` e ``c``, na realidade você está processando as\n",
    "coordenadas da matriz. Assim, é possível gerar diversas imagens sintéticas a partir de uma função de suas coordenadas.\n",
    "\n",
    "Como o NumPy processa as matrizes diretamente, sem a necessidade de fazer um ``for`` explícito, a notação do programa fica bem simples\n",
    "e a eficiência também. O único inconveniente é o uso da memória para se calcular as matrizes de índices ``r`` e ``c``. Iremos\n",
    "ver mais à frente que isto pode ser minimizado. \n",
    "\n",
    "Por exemplo seja a função que seja a soma de suas coordenadas $f(r,c) = r + c$:"
   ]
  },
  {
   "cell_type": "code",
   "execution_count": 21,
   "metadata": {
    "collapsed": false
   },
   "outputs": [
    {
     "name": "stdout",
     "output_type": "stream",
     "text": [
      "f=\n",
      " [[ 0  1  2  3  4  5  6  7  8  9]\n",
      " [ 1  2  3  4  5  6  7  8  9 10]\n",
      " [ 2  3  4  5  6  7  8  9 10 11]\n",
      " [ 3  4  5  6  7  8  9 10 11 12]\n",
      " [ 4  5  6  7  8  9 10 11 12 13]]\n"
     ]
    }
   ],
   "source": [
    "f = r + c\n",
    "print('f=\\n', f)"
   ]
  },
  {
   "cell_type": "markdown",
   "metadata": {},
   "source": [
    "Ou ainda a função diferença entre a coordenada linha e coluna $f(r,c) = r - c$:"
   ]
  },
  {
   "cell_type": "code",
   "execution_count": 22,
   "metadata": {
    "collapsed": false
   },
   "outputs": [
    {
     "name": "stdout",
     "output_type": "stream",
     "text": [
      "f=\n",
      " [[ 0 -1 -2 -3 -4 -5 -6 -7 -8 -9]\n",
      " [ 1  0 -1 -2 -3 -4 -5 -6 -7 -8]\n",
      " [ 2  1  0 -1 -2 -3 -4 -5 -6 -7]\n",
      " [ 3  2  1  0 -1 -2 -3 -4 -5 -6]\n",
      " [ 4  3  2  1  0 -1 -2 -3 -4 -5]]\n"
     ]
    }
   ],
   "source": [
    "f = r - c\n",
    "print('f=\\n', f)"
   ]
  },
  {
   "cell_type": "markdown",
   "metadata": {},
   "source": [
    "Ou ainda a função $f(r,c) = (r + c) \\% 2$ onde % é operador módulo. Esta função retorna 1 se a soma das coordenadas for ímpar e 0 caso contrário.\n",
    "É uma imagem no estilo de um tabuleiro de xadrez de valores 0 e 1:"
   ]
  },
  {
   "cell_type": "code",
   "execution_count": 23,
   "metadata": {
    "collapsed": false
   },
   "outputs": [
    {
     "name": "stdout",
     "output_type": "stream",
     "text": [
      "f=\n",
      " [[0 1 0 1 0 1 0 1 0 1]\n",
      " [1 0 1 0 1 0 1 0 1 0]\n",
      " [0 1 0 1 0 1 0 1 0 1]\n",
      " [1 0 1 0 1 0 1 0 1 0]\n",
      " [0 1 0 1 0 1 0 1 0 1]]\n"
     ]
    }
   ],
   "source": [
    "f = (r + c) % 2\n",
    "print('f=\\n', f)"
   ]
  },
  {
   "cell_type": "markdown",
   "metadata": {},
   "source": [
    "Ou ainda a função de uma reta $ f(r,c) = (r = \\frac{1}{2}c)$:"
   ]
  },
  {
   "cell_type": "code",
   "execution_count": 24,
   "metadata": {
    "collapsed": false
   },
   "outputs": [
    {
     "name": "stdout",
     "output_type": "stream",
     "text": [
      "f=\n",
      " [[ True  True False False False False False False False False]\n",
      " [False False  True  True False False False False False False]\n",
      " [False False False False  True  True False False False False]\n",
      " [False False False False False False  True  True False False]\n",
      " [False False False False False False False False  True  True]]\n"
     ]
    }
   ],
   "source": [
    "f = (r == c//2)\n",
    "print('f=\\n', f)"
   ]
  },
  {
   "cell_type": "markdown",
   "metadata": {},
   "source": [
    "Ou ainda a função parabólica dada pela soma do quadrado de suas coordenadas \n",
    "$$ f(r,c) = r^2 + c^2 $$:"
   ]
  },
  {
   "cell_type": "code",
   "execution_count": 25,
   "metadata": {
    "collapsed": false
   },
   "outputs": [
    {
     "name": "stdout",
     "output_type": "stream",
     "text": [
      "f=\n",
      " [[ 0  1  4  9 16 25 36 49 64 81]\n",
      " [ 1  2  5 10 17 26 37 50 65 82]\n",
      " [ 4  5  8 13 20 29 40 53 68 85]\n",
      " [ 9 10 13 18 25 34 45 58 73 90]\n",
      " [16 17 20 25 32 41 52 65 80 97]]\n"
     ]
    }
   ],
   "source": [
    "f = r**2 + c**2\n",
    "print('f=\\n', f)"
   ]
  },
  {
   "cell_type": "markdown",
   "metadata": {},
   "source": [
    "   \n",
    "Ou ainda a função do círculo de raio 4, com centro em (0,0) $f(r,c) = (r^2 + c^2 < 4^2)$:"
   ]
  },
  {
   "cell_type": "code",
   "execution_count": 26,
   "metadata": {
    "collapsed": false
   },
   "outputs": [
    {
     "name": "stdout",
     "output_type": "stream",
     "text": [
      "f=\n",
      " [[1 1 1 1 0 0 0 0 0 0]\n",
      " [1 1 1 1 0 0 0 0 0 0]\n",
      " [1 1 1 1 0 0 0 0 0 0]\n",
      " [1 1 1 0 0 0 0 0 0 0]\n",
      " [0 0 0 0 0 0 0 0 0 0]]\n"
     ]
    }
   ],
   "source": [
    "f = ((r**2 + c**2) < 4**2)\n",
    "print('f=\\n', f * 1)"
   ]
  },
  {
   "cell_type": "markdown",
   "metadata": {},
   "source": [
    "## Operador indices em exemplo de imagens sintéticas\n",
    "\n",
    "Vejamos os exemplos acima, porém gerados em imagens. A diferença será no tamanho da matriz, iremos utilizar matriz (200,300), e\n",
    "a forma de visualizá-la através do ``adshow``, ao invés de imprimir os valores como fizemos acima. \n",
    "Como muitas vezes o resultado das funções poderão estar fora\n",
    "da faixa 0-255 admitida pelo ``adshow``, iremos sempre normalizar os valores finais da imagem calculada para a faixa 0-255 utilizando\n",
    "a função `ia636:ianormalize ianormalize` da toolbox ia636.\n",
    "\n",
    "Gerando as coordenadas utilizando ``indices``:\n",
    "\n",
    "Observe que o parâmetro de ``indices`` é uma tupla. Verifique o número de parêntesis utilizados:"
   ]
  },
  {
   "cell_type": "code",
   "execution_count": 27,
   "metadata": {
    "collapsed": false
   },
   "outputs": [],
   "source": [
    "import numpy as np\n",
    "import sys,os\n",
    "ia898path = os.path.abspath('../../')\n",
    "if ia898path not in sys.path:\n",
    "    sys.path.append(ia898path)\n",
    "import ia898.src as ia\n",
    "nb = ia.nbshow(3)"
   ]
  },
  {
   "cell_type": "code",
   "execution_count": 28,
   "metadata": {
    "collapsed": false
   },
   "outputs": [
    {
     "data": {
      "text/html": [
       "<head><style>                table, th, td { border: 0px solid black;                text-align: center;border-collapse: collapse;}</style></head>                <body><table border=\"0\"><tr><td>                    <table><tr><td><img src='data:image/png;base64,iVBORw0KGgoAAAANSUhEUgAAASwAAADICAAAAAB3tIOJAAAB4klEQVR4nO3UwQkAIRAEQT3MP2UvBfslQlUE0ow7BsfmvP2ChyyxzokVrO/2Cx5iWYFYgViBmxVYViBW4BsGlhWIFYgVuFmBZQViBb5hYFmBWIFYgZsVWFYgVuAbBpYViBWIFbhZgWUFYgW+YWBZgViBWIGbFVhWIFYgVuBmBZYViBX4hoFlBWIFYgVuVmBZgViBbxhYViBWIFbgZgWWFYgV+IaBZQViBWIFblZgWYFYgW8YWFYgViBW4GYFlhWIFYgVuFmBZQViBb5hYFmBWIFYgZsVWFYgVuAbBpYViBWIFbhZgWUFYgW+YWBZgViBWIGbFVhWIFbgGwaWFYgViBW4WYFlBWIFYgVuVmBZgViBbxhYViBWIFbgZgWWFYgV+IaBZQViBWIFblZgWYFYgW8YWFYgViBW4GYFlhWIFfiGgWUFYgViBW5WYFmBWIFYgZsVWFYgVuAbBpYViBWIFbhZgWUFYgW+YWBZgViBWIGbFVhWIFbgGwaWFYgViBW4WYFlBWIFvmFgWYFYgViBmxVYViBWIFbgZgWWFYgV+IaBZQViBWIFblZgWYFYgW8YWFYgViBW4GYFlhWIFfiGgWUFYgViBW5WYFmBWIFvGFhWIFYgVuBmBZYViBXMffsFD/kBr5EFEzseU2oAAAAASUVORK5CYII='/></td></tr>                    <tr><td align='center'>linhas</td></tr></table></td><td>                    <table><tr><td><img src='data:image/png;base64,iVBORw0KGgoAAAANSUhEUgAAASwAAADICAAAAAB3tIOJAAABt0lEQVR4nO3QIRKAUAhAQfD+hzZYHee/7G6AAOntzO7uPvN1fZx+9nENx8QKxArECsQKxArECsQKxArECsQKxArECsQKxArECsQKxArECsQKxArECsQKxArECsQKxArECsQKxArECsQKxArECsQKxArECsQKxArECsQKxArECsQKxArECsQKxArECsQKxArECsQKxArECsQKxArECsQKxArECsQKxArECsQKxArECsQKxArECsQKxArECsQKxArECsQKxArECsQKxArECsQKxArECsQKxArECsQKxArECsQKxArECsQKxArECsQKxArECsQKxArECsQKxArECsQKxArECsQKxArECsQKxArECsQKxArECsQKxArECsQKxArECsQKxArECsQKxArECsQKxArECsQKxArECsQKxArECsQKxArECsQKxArECsQKxArECsQKxArECsQKxArECsQKxArECsQKxArECsQKxArECsQKxArECsQKxArECsQKxArECsQKxArECsQKxArECsQKxArECsQKxArECsQKxArECsQKxArECsQKxArECsQKxArECsQKxArECm5gwAKPJgQBIQAAAABJRU5ErkJggg=='/></td></tr>                    <tr><td align='center'>colunas</td></tr></table></td></tr></table></body>"
      ],
      "text/plain": [
       "<IPython.core.display.HTML object>"
      ]
     },
     "metadata": {},
     "output_type": "display_data"
    }
   ],
   "source": [
    "r,c = np.indices( (200, 300) )\n",
    "rn = ia.normalize(r)\n",
    "cn = ia.normalize(c)\n",
    "nb.nbshow(rn,'linhas')\n",
    "nb.nbshow(cn, 'colunas',flush=True)"
   ]
  },
  {
   "cell_type": "markdown",
   "metadata": {},
   "source": [
    "## Soma\n",
    "\n",
    "Função soma: $f(r,c) = r + c$:"
   ]
  },
  {
   "cell_type": "code",
   "execution_count": 3,
   "metadata": {
    "collapsed": false
   },
   "outputs": [
    {
     "data": {
      "text/html": [
       "<head><style>        table, th, td { border: 0px solid black;        text-align: center;border-collapse: collapse;}</style></head>        <body><table border=\"0\"><td>            <table><tr><td><img src='data:image/png;base64,iVBORw0KGgoAAAANSUhEUgAAASwAAADICAAAAAB3tIOJAAAEiUlEQVR4nO2dy24bQQwEpfn/j84hsQPbeuzONtlF0tBBe+hBEwVeC7zfbvejvwrB0PKFmEIWjC1fiClUweDyw5vFGNdbfnSzION6yw9uFmVcb/mxzcKM6y0/tFmccb3lRzYLNK63/MBmkcb1lr/fLNS43vK3m8Ua11v+brNg43rL32wWbVxv+evNwo3rLX+5WbxxveWvNgs4rrf8xWYRx/WWP98s5Lje8qebxRzXW/5ss6DjesufbBZ1XG/5483Cjustf7hZ3HG95Y82Czyut/zBZpHH9Zb/3Cz0uN7yH5vFHtdb/n2z4ON6y9fGG3PQV7423niDxvK18WYqqy+bVWBcb/naeGMMeqdcG298QfOUa+ONLeiecm28cQXtUy7EFPzy++3+sVnuKfDlf/8WYgp6+b+/hZgCXv7xsRBTsMs/PxZiCnT5/88S0gCEVQlpgMKqgjSAYVVAGuCw4ksDIFZ4aYDEii4NoFjBpQEWK7Y0AGOFlgZorMjSAI4VWBrgseJKA0BWWGmAyIoqDSBZQaUBJiumNABlhZQGqKyI0gCWFVAa4LLiSQNgVjhpgMyKJg2gWcGkATYrljQAZ4WSBuisSNIAnhVIGuCz4kgDBVhhpIEKrCjSQAlWEGmgBqsbQhoowupOkAaqsCJIA2VYAaSBOqz80kAhVnZpoBIrtzRQipVZGqjFyisNFGNllQaqsXJKA+VYGaWBeqx80kBBVjZpoCIrlzRQkpVJGqjJyiMNFGVlkQaqsnJIA2VZGaSBuqzypYHCrNKlgcqssqWB0qySpYHarHKlgeKsUqWB6qwypYHyrBKlgfqs8qSBBqzSpIEOrLKkgRaskqSBHqxypIEmrFKkgS6sMqSBNqwSpIE+rOKlgUaswqWBTqyipYFWrIKlgV6sYqWBZqxCpYFurCKlgXasAqWBfqzipIGGrMKkgY6soqSBlqyCpIGerGKkgaasQqSBrqwipIG2rAKkgb6s9NJAY1ZyaaAzK7U00JqVWBrozUorDTRnJZUGurNSSgPtWQmlgf6sdNLAAFYyaWACK5U0MIKVSBqYwUojDQxhJZEGprBSSANjWAmkgTmsrksDg1hdlgYmsboqDYxidVEamMXqmjQwjNUlaWAaqyvSwDhWF6SBeaz2pYGBrLalgYmsdqWBkaw2pYGZrPakgaGstqSBqax2pIGxrDakgbmszksDg1mdlgYmszorDYxmdVIamM3qnDQwnNUpaWA6qzPSwHhWJ6SBX1bHpYFfVt4bFvpgcLnxhoU+GF3uu2GhD4aX225Y6IPx5a4bFvpgQrnphoU+mFHuuWGhD6aUW25Y6IM55Y4bFvpgUrnhhoU+mFWef8NCH0wrT79hoQ/mlWffsNAHE8uTb1jog5nluTcs9MHU8tQbFvpgbnnmDQt9MLk88YaFPphdnnfDQh9ML0+7YaEP5pdn3bDQBw3lSTcs9EFHec4NC33QUp5yw0If9JRn3LDQB03lCTcs9EFXefwNC33QVh5+w0If9JVH37DQB43lwTcs9EFneewNC33QWh56w0If9E75B2WReY9uXzcgAAAAAElFTkSuQmCC'/></td></tr>            <tr><td align='center'>r + c</td></tr></table></td><tr></tr></table></body>"
      ],
      "text/plain": [
       "<IPython.core.display.HTML object>"
      ]
     },
     "metadata": {},
     "output_type": "display_data"
    }
   ],
   "source": [
    "f = r + c\n",
    "ia.adshow(ia.normalize(f),'r + c')"
   ]
  },
  {
   "cell_type": "markdown",
   "metadata": {},
   "source": [
    "## Subtração\n",
    "\n",
    "Função subtração $f(r,c) = r - c$:"
   ]
  },
  {
   "cell_type": "code",
   "execution_count": 6,
   "metadata": {
    "collapsed": false
   },
   "outputs": [
    {
     "data": {
      "text/html": [
       "<head><style>        table, th, td { border: 0px solid black;        text-align: center;border-collapse: collapse;}</style></head>        <body><table border=\"0\"><td>            <table><tr><td><img src='data:image/png;base64,iVBORw0KGgoAAAANSUhEUgAAASwAAADICAAAAAB3tIOJAAAE3UlEQVR4nO2dS27kMAxELd3/AjntzKJ/SbftLskiWfyAi/SiDAoPXOah2s+/7T7PH99mfdB0Of7KvrXHtA2c9UHT5fgrO8k7XNDqU1+tD7qg1ae+SkqrT32VlFaf+kokyE+rT30lE6Sn9X5ZRetkPi6raB3P52UVrcPZuayidTR7l1W0Dmb3sorW/uxfVtHanYPLKlp7c3RZRWtnDi+raH3O8WUVrY85uayi9T5nl1W03ub0sorW3zm/rKL1Z75cVtH6Pd8uq2j9mq+XVbRe8/2yitZzgMsqWo9BLqto3Qe6rKJ1G+yyilbbGnxZRatt+GUVrba1TvIO4uWvn53kHczLnz86yTuolz9+dJJ3cC+//+kk7yBffvvTSd7Bvrxt7XFZ9u+gX9629vrXbg8Ptn5ln/rKKmj8Sg5pAA7avpJEGoCDpstZpAE4aLmcRhqAg4bLeaQBOGi3nEgagINmy5mkAThotZxKGoCDRsu5pAE4aLOcTBqAgybL2aQBOGixnE4agIMGy/mkATiov5xQGoCD6ssZpQE4qL2cUhqAg8rLOaUBOKi7nFQagIOqy1mlATiouZxWGoCDist5pQE4qLecWBqAg2rLmaUBOKi1nFoagINKy7mlATios5xcGoCDKsvZpQE4qLGcXhqAgwrL+aUBOCi/3IE0AAfFl3uQBuCg9HIX0gAcFF4OX1bRGrmsojWioxStER0lPa0hHSU7rTEdJTmtQR0lN61RHSU1rWEdJTOtcR0lMa0JHSUvrRkdJS2tKR0lK605HSUprUkdJSetWR0lJa1pHSUjrXkdJSGtCzpKPlpXdJR0tC7pKNloXdNRktG6qKPkonVVR0lF67KOkonWdR0lEa0FOkoeWit0lDS0lugoWWit0VGS0Fqko+SgtUpHSUFrmY6SgdY6HSUBrYU6SnxaK3WU8LSW6ijRaa3VUYLTWqyjxKa1WkcJTWu5jhKZ1nodJTAtAR0lLi2JDouwtEQ6LKLSkumwCEpLqMMiJi2pDouQtMQ6LCLSkuuwCEhLsMMiHi3JDotwtEQ7LKLRku2wCEZLuMMiFi3pDotQtMQ7LCLRku+wCERLocMiDi2NDoswtFQ6LKLQ0umwCEJLqcMiBi2tDosQtNQ6LCLQ0uuwCEBLscPCPy3NDgv3tFQ7LLzT0u2wcE5LucPCNy3tDgvXtNQ7LDzT0u+wcEzLoMPCLy2LDgu3tEw6LLzSsumwcErLqMPCJy2rDguXtMw6LDzSsuuwcEjLsMPCHy3LDgt3tCSkgZl3EAdfURFpYOIdzMFnVEYaGH8HdfARFZIGht/BHbxHpaSB0XeQB29RMWlg8B3swa01SWlg7B30wa2JSgND7+APbrLSwMg7HASFpYGBd3gICksD+Dtc0BKWBuCgC1rS0gAc9EBLXBqAgw5oyUsDcJCfloI0AAfpaWlIA3CQnZaKNAAHyWnpSANwkJuWkjQAB6lpaUkDcJCZlpo0AAeJaelJA3CQl5aiNAAHaWlpSgNwkJWWqjQAB0lp6UoDcJCTlrI0AAcpaWlLA3CQkZa6NAAHCWnpSwNwkI+WgTQAB+loWUgDcJCNlok0AAfJaNlIA3CQi5aRNAAHqWhZSQNwkImWmTQAB4lo2UkDcJCHlqE0AAdpaFlKA3CQhZapNAAHSWj9B+u7EgUYX3qEAAAAAElFTkSuQmCC'/></td></tr>            <tr><td align='center'>r - c</td></tr></table></td><tr></tr></table></body>"
      ],
      "text/plain": [
       "<IPython.core.display.HTML object>"
      ]
     },
     "metadata": {},
     "output_type": "display_data"
    }
   ],
   "source": [
    "f = r - c\n",
    "ia.adshow(ia.normalize(f),'r - c')"
   ]
  },
  {
   "cell_type": "markdown",
   "metadata": {},
   "source": [
    "## Xadrez\n",
    "\n",
    "Função xadrez $f(r,c) = \\frac{(r + c)}{8} \\% 2$. Aqui foi feita a divisão por 8 para que o tamanho das casas do xadrez fique 8 x 8, caso\n",
    "contrário é muito difícil de visualizar o efeito xadrez pois a imagem possui muitos pixels.:"
   ]
  },
  {
   "cell_type": "code",
   "execution_count": 8,
   "metadata": {
    "collapsed": false
   },
   "outputs": [
    {
     "data": {
      "text/html": [
       "<head><style>        table, th, td { border: 0px solid black;        text-align: center;border-collapse: collapse;}</style></head>        <body><table border=\"0\"><td>            <table><tr><td><img src='data:image/png;base64,iVBORw0KGgoAAAANSUhEUgAAASwAAADICAAAAAB3tIOJAAAB6ElEQVR4nO3YMQrAIBAAQc3//5w0phSynYGZRq5drpCbY7nXO83b+Rp8JlYgViBWIFYgViBWME/4v/xltlmBWIFYgViBWIFYgVjB+5046j9z6myzArECsQKxArECsQKxAvesMNusQKxArECsQKxArECswD0rzDYrECsQKxArECsQKxArcM8Ks80KxArECsQKxArECsQK3LPCbLMCsQKxArECsQKxArEC96ww26xArECsQKxArECsQKzAPSvMNisQKxArECsQKxArECtwzwqzzQrECsQKxArECsQKxArcs8JsswKxArECsQKxArECsQL3rDDbrECsQKxArECsQKxArMA9K8w2KxArECsQKxArECsQK3DPCrPNCsQKxArECsQKxArECtyzwmyzArECsQKxArECsQKxAvesMNusQKxArECsQKxArECswD0rzDYrECsQKxArECsQKxArcM8Ks80KxArECsQKxArECsQK3LPCbLMCsQKxArECsQKxArEC96ww26xArECsQKxArECsQKzAPSvMNisQKxArECsQKxArECtwzwqzzQrECsQKxArECsQKxArcs8JsswKxArECsQKxArECsQL3rDDbrECsQKxArECsQKxArMA9K8w2KxArECsQKxArECsQK3gAgjLcei7XSDMAAAAASUVORK5CYII='/></td></tr>            <tr><td align='center'>(r//8 + c//8) % 2</td></tr></table></td><tr></tr></table></body>"
      ],
      "text/plain": [
       "<IPython.core.display.HTML object>"
      ]
     },
     "metadata": {},
     "output_type": "display_data"
    }
   ],
   "source": [
    "f = (r//8 + c//8) % 2\n",
    "ia.adshow(ia.normalize(f),'(r//8 + c//8) % 2')"
   ]
  },
  {
   "cell_type": "markdown",
   "metadata": {},
   "source": [
    "## Reta\n",
    "\n",
    "Ou ainda a função de uma reta $f(r,c) = (r = \\frac{1}{2} c)$:"
   ]
  },
  {
   "cell_type": "code",
   "execution_count": 10,
   "metadata": {
    "collapsed": false
   },
   "outputs": [
    {
     "data": {
      "text/html": [
       "<head><style>        table, th, td { border: 0px solid black;        text-align: center;border-collapse: collapse;}</style></head>        <body><table border=\"0\"><td>            <table><tr><td><img src='data:image/png;base64,iVBORw0KGgoAAAANSUhEUgAAASwAAADICAAAAAB3tIOJAAABXklEQVR4nO3SwQnAMBADwUv/RZ9b8D5CCMxUIBbN7nBPrkSuRK5ErkSuRK5ErkSuRK5ErkSuRK5ErkSuRK5ErkSuRK5ErkSuRK5ErkSuRK5ErkSuRK5ErkSuRK5ErkSuRK5ErkSuRK5ErkSuRK5ErkSuRK5ErkSuRK5ErkSuRK5ErkSuRK5ErkSuRK5ErkSuRK5ErkSuRK5ErkSuRK5ErkSuRK5ErkSuRK5ErkSuRK5ErkSuRK5ErkSuRK5ErkSuRK5ErkSuRK5ErkSuRK5ErkSuRK5ErkSuRK5ErkSuRK5ErkSuRK5ErkSuRK5ErkSuRK5ErkSuRK5ErkSuRK5ErkSuRK5ErkSuRK5ErkSuRK5ErkSuRK5ErkSuRK5ErkSuRK5ErkSuRK5ErkSuRK5ErkSuRK5ErkSuRK5ErkSuRK5ErkSuRK5kd+b5esR/OBcAAAAAAAAAAAAAAAAAAG85Mb4p5qnos0QAAAAASUVORK5CYII='/></td></tr>            <tr><td align='center'>r == c//2</td></tr></table></td><tr></tr></table></body>"
      ],
      "text/plain": [
       "<IPython.core.display.HTML object>"
      ]
     },
     "metadata": {},
     "output_type": "display_data"
    }
   ],
   "source": [
    "f = (r == c//2)\n",
    "ia.adshow(f,'r == c//2')"
   ]
  },
  {
   "cell_type": "markdown",
   "metadata": {},
   "source": [
    "## Parábola\n",
    "\n",
    "Função parabólica: $f(r,c) = r^2 + c^2$:"
   ]
  },
  {
   "cell_type": "code",
   "execution_count": 11,
   "metadata": {
    "collapsed": false
   },
   "outputs": [
    {
     "data": {
      "text/html": [
       "<head><style>        table, th, td { border: 0px solid black;        text-align: center;border-collapse: collapse;}</style></head>        <body><table border=\"0\"><td>            <table><tr><td><img src='data:image/png;base64,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'/></td></tr>            <tr><td align='center'>r**2 + c**2</td></tr></table></td><tr></tr></table></body>"
      ],
      "text/plain": [
       "<IPython.core.display.HTML object>"
      ]
     },
     "metadata": {},
     "output_type": "display_data"
    }
   ],
   "source": [
    "f = r**2 + c**2\n",
    "ia.adshow(ia.normalize(f),'r**2 + c**2')"
   ]
  },
  {
   "cell_type": "markdown",
   "metadata": {},
   "source": [
    "## Círculo\n",
    "\n",
    "Função do círculo de raio 190, $f(r,c) = (r^2 + c^2 < 190^2)$:"
   ]
  },
  {
   "cell_type": "code",
   "execution_count": 12,
   "metadata": {
    "collapsed": false
   },
   "outputs": [
    {
     "data": {
      "text/html": [
       "<head><style>        table, th, td { border: 0px solid black;        text-align: center;border-collapse: collapse;}</style></head>        <body><table border=\"0\"><td>            <table><tr><td><img src='data:image/png;base64,iVBORw0KGgoAAAANSUhEUgAAASwAAADICAAAAAB3tIOJAAAC6ElEQVR4nO3YQU4DQRBD0Q7i/leGFQskhOJkpuzf7X+BkZ5cTcTja5F7jH7tY/Rr8IolVCyhYgkVS6hYQsUSKpZQsYSKJVQsoWIJFUuoWELFEiqWULGEiiVULCE21uy/4OFYwxVLqFhCxRIqllCxhIolhMYa/pnFxpquWELFEiqWULGEyFjTfwzRWOMVS6hYQsUSAmONv+9krPmKJVQsoWIJcbHm33cwlqFiCRVLCItleLK4WI6KJVQsISqW48nCYlkqlhAUy3KFVCxPxRJiYnmuEIplqlhCSCzTFTKxXBVLiIjlukIklq1iCQGxbFdIxPJVLCEelu8KgVjGcFjGYfGwnNGwnMPCYVkrlhAMy3qFNCxvLCzvsGBY5lBY5mGxsNyRsNzDQmHZA2HZh0XC8sfB8g8LhBUQBitgWByshChYCcPCYEUEwYoYFgUrIwZWxrAYWCFWDKyUCFgpw0JgxQTAihkWACvHCoAVVDxW0LDysZJKx0oaVjpWlFU6VlbZWFnDysYKs4rGSrOKxoorGCtuWMFYeVa5WIFWuViJpWIlDisVK9IqFCvTKhQrtEis0GFFYqVaJWLFWgVi5VrlYQVb5WEll4aVPKw0rGirMKxsqyyscKsorHSrJKx4qyCsfKscLIBVDBbBKgULYRWCxbDKwIJYRWBRrBKwMFYBWBwrPxbIyo5FsnJjoazWp/PjLCrvsmhWTiyclRGLZ+XDAlq5HngilWtZTCsPFtTKcYZUKseyuFbzWGCr6TMkU00vi201iwW3mjxDOtXksvhWY8vagGoKawuqoTPcxGpiWbtQDWDtQ3X/Ge5kdfOytqK6F2szqjuxtqO6D2tDqruwtqS6B2tTqjuwtqW6Hmtjqquxtqa6FGtzqXUh1v5Ul2GdQHUN1hlS6wKsY6TWu1gnSa23sA6TWq9jnSe1XsQ6Umq9gHUq1Foi1slQaz2PdbrTWusprDr99C9WmX73J1aRWmuttdZaa/y+ATTeAyy6xzMDAAAAAElFTkSuQmCC'/></td></tr>            <tr><td align='center'>r**2 + c**2) < 190**2</td></tr></table></td><tr></tr></table></body>"
      ],
      "text/plain": [
       "<IPython.core.display.HTML object>"
      ]
     },
     "metadata": {},
     "output_type": "display_data"
    }
   ],
   "source": [
    "f = ((r**2 + c**2) < 190**2)\n",
    "ia.adshow(ia.normalize(f),'r**2 + c**2) < 190**2')"
   ]
  },
  {
   "cell_type": "markdown",
   "metadata": {},
   "source": [
    "## Meshgrid\n",
    "   \n",
    "A função ``meshgrid`` é semelhante à  função ``indices`` visto\n",
    "anteriormente, porém, enquanto ``indices`` gera as coordenadas inteiras não negativas a partir de um ``shape(H,W)``, \n",
    "o ``meshgrid`` gera os valores das matrizes a partir de dois vetores de valores reais quaisquer, um para as linhas e outro para as colunas.\n",
    "\n",
    "Veja a seguir um pequeno exemplo numérico. Para que o ``meshgrid`` fique compatível com a nossa convenção de (linhas,colunas), deve-se\n",
    "usar o parâmetro ``indexing='ij'``."
   ]
  },
  {
   "cell_type": "code",
   "execution_count": 13,
   "metadata": {
    "collapsed": false
   },
   "outputs": [
    {
     "name": "stdout",
     "output_type": "stream",
     "text": [
      "r=\n",
      " [[-1.5 -1.5 -1.5 -1.5 -1.5 -1.5]\n",
      " [-1.  -1.  -1.  -1.  -1.  -1. ]\n",
      " [-0.5 -0.5 -0.5 -0.5 -0.5 -0.5]\n",
      " [ 0.   0.   0.   0.   0.   0. ]\n",
      " [ 0.5  0.5  0.5  0.5  0.5  0.5]]\n",
      "c=\n",
      " [[-20 -10   0  10  20  30]\n",
      " [-20 -10   0  10  20  30]\n",
      " [-20 -10   0  10  20  30]\n",
      " [-20 -10   0  10  20  30]\n",
      " [-20 -10   0  10  20  30]]\n"
     ]
    }
   ],
   "source": [
    "import numpy as np\n",
    "r, c = np.meshgrid( np.array([-1.5, -1.0, -0.5, 0.0, 0.5]), \n",
    "                    np.array([ -20,  -10,    0,  10,  20, 30]), indexing='ij')\n",
    "print('r=\\n',r)\n",
    "print('c=\\n',c)"
   ]
  },
  {
   "cell_type": "markdown",
   "metadata": {},
   "source": [
    "## Gerando os vetores com linspace\n",
    "\n",
    "A função ``linspace`` gera vetor em ponto flutuante recebendo os parâmetro de valor inicial, valor final e número de pontos do vetor.\n",
    "Desta forma ele é bastante usado para gerar os parâmetro para o ``meshgrid``.\n",
    " \n",
    "Repetindo os mesmos valores do exemplo anterior, porém usando ``linspace``. Observe que o primeiro vetor possui 5 pontos,\n",
    "começando com valor -1.5 e o valor final é 0.5 (inclusive). O segundo vetor possui 6 pontos, começando de -20 até 30:"
   ]
  },
  {
   "cell_type": "code",
   "execution_count": 14,
   "metadata": {
    "collapsed": false
   },
   "outputs": [
    {
     "name": "stdout",
     "output_type": "stream",
     "text": [
      "rows: [-1.5 -1.  -0.5  0.   0.5]\n",
      "cols: [-20. -10.   0.  10.  20.  30.]\n"
     ]
    }
   ],
   "source": [
    "rows = np.linspace(-1.5, 0.5, 5)\n",
    "cols = np.linspace(-20, 30, 6)\n",
    "\n",
    "print('rows:', rows)\n",
    "print('cols:', cols)"
   ]
  },
  {
   "cell_type": "markdown",
   "metadata": {},
   "source": [
    "Usando os dois vetores gerados pelo ``linspace`` no ``meshgrid``:\n",
    "   "
   ]
  },
  {
   "cell_type": "code",
   "execution_count": 15,
   "metadata": {
    "collapsed": false
   },
   "outputs": [
    {
     "name": "stdout",
     "output_type": "stream",
     "text": [
      "r = \n",
      " [[-1.5 -1.5 -1.5 -1.5 -1.5 -1.5]\n",
      " [-1.  -1.  -1.  -1.  -1.  -1. ]\n",
      " [-0.5 -0.5 -0.5 -0.5 -0.5 -0.5]\n",
      " [ 0.   0.   0.   0.   0.   0. ]\n",
      " [ 0.5  0.5  0.5  0.5  0.5  0.5]]\n",
      "c = \n",
      " [[-20. -10.   0.  10.  20.  30.]\n",
      " [-20. -10.   0.  10.  20.  30.]\n",
      " [-20. -10.   0.  10.  20.  30.]\n",
      " [-20. -10.   0.  10.  20.  30.]\n",
      " [-20. -10.   0.  10.  20.  30.]]\n"
     ]
    }
   ],
   "source": [
    "r, c = np.meshgrid(rows, cols, indexing='ij')\n",
    "print('r = \\n', r)\n",
    "print('c = \\n', c)"
   ]
  },
  {
   "cell_type": "markdown",
   "metadata": {},
   "source": [
    "Podemos agora gerar uma matriz ou imagem que seja função destes valores. Por exemplo ser o produto deles:"
   ]
  },
  {
   "cell_type": "code",
   "execution_count": 16,
   "metadata": {
    "collapsed": false
   },
   "outputs": [
    {
     "name": "stdout",
     "output_type": "stream",
     "text": [
      "f=\n",
      " [[ 30.  15.  -0. -15. -30. -45.]\n",
      " [ 20.  10.  -0. -10. -20. -30.]\n",
      " [ 10.   5.  -0.  -5. -10. -15.]\n",
      " [ -0.  -0.   0.   0.   0.   0.]\n",
      " [-10.  -5.   0.   5.  10.  15.]]\n"
     ]
    }
   ],
   "source": [
    "f = r * c\n",
    "print('f=\\n', f)"
   ]
  },
  {
   "cell_type": "markdown",
   "metadata": {},
   "source": [
    "## Exemplo na geração da imagem sinc com meshgrid\n",
    "\n",
    "Neste exemplo, geramos a imagem da função $ sinc(r,c)$ em duas dimensões, nos intervalos na vertical, de -5 a 5 e na\n",
    "horizontal de -6 a 6. A função sinc é uma função trigonométrica que pode ser utilizada para filtragens.\n",
    "\n",
    "A equação é dada por:\n",
    "\n",
    "$$    sinc(r,c) = \\frac{\\sin(r^2 + c^2)}{r^2 + c^2}, \\text{para\\ } -5 \\leq r \\leq 5, -6 \\leq c \\leq 6 $$\n",
    "\n",
    "Na origem, tanto r como c são zeros, resultando uma divisão por zero. Entretanto pela teoria dos limites, $\\frac{sin(x)}{x}$ é\n",
    "igual a 1 quando $x$ é igual a zero.\n",
    "Uma forma de se obter isto em ponto flutuante é somar tanto no numerador como no denominador um *epsilon*, que é a\n",
    "menor valor em ponto flutuante. Epsilon pode ser obtido pela função ``np.spacing``. "
   ]
  },
  {
   "cell_type": "code",
   "execution_count": 17,
   "metadata": {
    "collapsed": false
   },
   "outputs": [
    {
     "data": {
      "text/html": [
       "<head><style>        table, th, td { border: 0px solid black;        text-align: center;border-collapse: collapse;}</style></head>        <body><table border=\"0\"><td>            <table><tr><td><img src='data:image/png;base64,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'/></td></tr>            <tr><td align='center'>Função sinc: sen(r² + c²)/(r²+c²) em duas dimensões</td></tr></table></td><tr></tr></table></body>"
      ],
      "text/plain": [
       "<IPython.core.display.HTML object>"
      ]
     },
     "metadata": {},
     "output_type": "display_data"
    }
   ],
   "source": [
    "e = np.spacing(1) # epsilon to avoid 0/0\n",
    "rows = np.linspace(-5.0, 5.0, 150) # coordenadas das linhas\n",
    "cols = np.linspace(-6.0, 6.0, 180) # coordenadas das colunas\n",
    "r, c = np.meshgrid(rows, cols, indexing='ij') # Grid de coordenadas estilo numpy\n",
    "z = np.sin(r**2 + c**2 + e) / (r**2 + c**2 + e) # epsilon is added to avoid 0/0\n",
    "ia.adshow(ia.normalize(z),'Função sinc: sen(r² + c²)/(r²+c²) em duas dimensões')"
   ]
  },
  {
   "cell_type": "markdown",
   "metadata": {},
   "source": [
    "## Exemplo na geração da imagem sinc com indices\n",
    "\n",
    "Outra forma de gerar a mesma imagem, usando a função ``indices`` é processar os\n",
    "indices de modo a gerar os mesmos valores relativos à grade de espaçamento regular\n",
    "acima, conforme ilustrado abaixo:"
   ]
  },
  {
   "cell_type": "code",
   "execution_count": 18,
   "metadata": {
    "collapsed": false
   },
   "outputs": [
    {
     "data": {
      "text/html": [
       "<head><style>        table, th, td { border: 0px solid black;        text-align: center;border-collapse: collapse;}</style></head>        <body><table border=\"0\"><td>            <table><tr><td><img src='data:image/png;base64,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'/></td></tr>            <tr><td align='center'>Função sinc: sin(r² + c²)/(r²+c²) em duas dimensões</td></tr></table></td><tr></tr></table></body>"
      ],
      "text/plain": [
       "<IPython.core.display.HTML object>"
      ]
     },
     "metadata": {},
     "output_type": "display_data"
    }
   ],
   "source": [
    "n_rows = len(rows)\n",
    "n_cols = len(cols)\n",
    "r,c = np.indices((n_rows,n_cols))\n",
    "r = -5. + 10.*r.astype(float)/(n_rows-1)\n",
    "c = -6. + 12.*c.astype(float)/(n_cols-1)\n",
    "zi = np.sin(r**2 + c**2 + e) / (r**2 + c**2 + e) # epsilon is addes to avoid 0/0\n",
    "ia.adshow(ia.normalize(zi),'Função sinc: sin(r² + c²)/(r²+c²) em duas dimensões')   "
   ]
  },
  {
   "cell_type": "markdown",
   "metadata": {},
   "source": [
    "Verificando que as duas funções são iguais:"
   ]
  },
  {
   "cell_type": "code",
   "execution_count": 19,
   "metadata": {
    "collapsed": false
   },
   "outputs": [
    {
     "name": "stdout",
     "output_type": "stream",
     "text": [
      "Máxima diferença entre z e zi? 1.38777878078e-15\n"
     ]
    }
   ],
   "source": [
    "print('Máxima diferença entre z e zi?', abs(z - zi).max())"
   ]
  },
  {
   "cell_type": "markdown",
   "metadata": {},
   "source": [
    "## Documentação Oficial Numpy\n",
    " \n",
    "- [meshgrid](http://docs.scipy.org/doc/numpy/reference/generated/numpy.meshgrid.html)\n",
    "- [indices](http://docs.scipy.org/doc/numpy/reference/generated/numpy.indices.html) \n",
    "- [linspace](http://docs.scipy.org/doc/numpy/reference/generated/numpy.linspace.html)"
   ]
  },
  {
   "cell_type": "markdown",
   "metadata": {},
   "source": [
    "## Referências\n",
    "\n",
    "- [Wikipedia: Sinc Function](http://en.wikipedia.org/wiki/Sinc_function)"
   ]
  },
  {
   "cell_type": "markdown",
   "metadata": {},
   "source": [
    "## Para usuários avançados\n",
    "\n",
    "Na realidade a função `indices` retorna um único array n-dimensional com uma dimensão a mais que o indicado pelo\n",
    "shape usado como parâmetro. Assim, quando é feito ``r,c = np.indices((rows,cols))``, r é atribuído para o elemento 0 e\n",
    "c é atribuído para o elemento 1 do ndarray. No caso do ``meshgrid``, ele retorna tantos arrays quanto forem o número\n",
    "de vetores passados como parâmetro para ``meshgrid``.\n",
    "\n",
    "## Exemplos com Imagem\n",
    "\n",
    "- `ia636:iacircle Uso do meshgrid na função iacircle`\n",
    "- `ia636:iarectangle Uso meshgrid na função iarectangle`\n",
    "- `ia636:iacos Uso de indices na função iacos - cossenóide`\n",
    "- `ia636:ialog Uso de indices na função ialog - Laplaciano da gaussiana`"
   ]
  }
 ],
 "metadata": {
  "kernelspec": {
   "display_name": "Python 3",
   "language": "python",
   "name": "python3"
  },
  "language_info": {
   "codemirror_mode": {
    "name": "ipython",
    "version": 3
   },
   "file_extension": ".py",
   "mimetype": "text/x-python",
   "name": "python",
   "nbconvert_exporter": "python",
   "pygments_lexer": "ipython3",
   "version": "3.6.0"
  },
  "toc": {
   "colors": {
    "hover_highlight": "#DAA520",
    "running_highlight": "#FF0000",
    "selected_highlight": "#FFD700"
   },
   "moveMenuLeft": true,
   "nav_menu": {
    "height": "156px",
    "width": "252px"
   },
   "navigate_menu": true,
   "number_sections": true,
   "sideBar": true,
   "threshold": 4,
   "toc_cell": true,
   "toc_section_display": "block",
   "toc_window_display": false
  }
 },
 "nbformat": 4,
 "nbformat_minor": 2
}
