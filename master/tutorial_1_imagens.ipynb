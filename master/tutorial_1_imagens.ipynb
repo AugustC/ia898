{
 "cells": [
  {
   "cell_type": "markdown",
   "metadata": {},
   "source": [
    "# Processamento de imagens usando fatiamento do Numpy\n",
    "\n",
    "Uma introdução sobre como representar, ler e exibir imagens no Adessowiki podem ser vista em:\n",
    " \n",
    "- `master:tutorial_img_ds Representação, Leitura e Visualização de Imagens no Adessowiki`.\n",
    "\n",
    "O conceito de fatiamento (slicing) do Numpy é um dos mais importantes para processamento de imagens, tanto\n",
    "pela sua versatilidade como pela sua eficiência. Reunimos nesta página um conjunto de processamento de\n",
    "imagens utilizando quase que exclusivamente operações de fatiamento.\n",
    "\n",
    "Para entender melhor como o fatiamento funciona, recomenda-se ver uma explicação didática do fatiamento:\n",
    "\n",
    "- `tutorial_numpy_1_2 Fatiamentos unidimensionais`\n",
    "- `tutorial_numpy_1_3 Fatiamentos bidimensionais`\n",
    "\n",
    "## Sobrepondo reticulado"
   ]
  },
  {
   "cell_type": "code",
   "execution_count": 1,
   "metadata": {
    "collapsed": false
   },
   "outputs": [
    {
     "ename": "NameError",
     "evalue": "name 'adreadgray' is not defined",
     "output_type": "error",
     "traceback": [
      "\u001b[0;31m---------------------------------------------------------------------------\u001b[0m",
      "\u001b[0;31mNameError\u001b[0m                                 Traceback (most recent call last)",
      "\u001b[0;32m<ipython-input-1-e8c3264702a4>\u001b[0m in \u001b[0;36m<module>\u001b[0;34m()\u001b[0m\n\u001b[0;32m----> 1\u001b[0;31m \u001b[0mf\u001b[0m \u001b[0;34m=\u001b[0m \u001b[0madreadgray\u001b[0m\u001b[0;34m(\u001b[0m\u001b[0;34m'beef.tif'\u001b[0m\u001b[0;34m)\u001b[0m\u001b[0;34m\u001b[0m\u001b[0m\n\u001b[0m\u001b[1;32m      2\u001b[0m \u001b[0madshow\u001b[0m\u001b[0;34m(\u001b[0m\u001b[0mf\u001b[0m\u001b[0;34m,\u001b[0m \u001b[0;34m'original'\u001b[0m\u001b[0;34m)\u001b[0m\u001b[0;34m\u001b[0m\u001b[0m\n\u001b[1;32m      3\u001b[0m \u001b[0mf\u001b[0m\u001b[0;34m[\u001b[0m\u001b[0;34m:\u001b[0m\u001b[0;34m:\u001b[0m\u001b[0;36m10\u001b[0m\u001b[0;34m,\u001b[0m\u001b[0;34m:\u001b[0m\u001b[0;34m]\u001b[0m \u001b[0;34m=\u001b[0m \u001b[0;36m255\u001b[0m \u001b[0;31m# linhas horizontais\u001b[0m\u001b[0;34m\u001b[0m\u001b[0m\n\u001b[1;32m      4\u001b[0m \u001b[0mf\u001b[0m\u001b[0;34m[\u001b[0m\u001b[0;34m:\u001b[0m\u001b[0;34m,\u001b[0m\u001b[0;34m:\u001b[0m\u001b[0;34m:\u001b[0m\u001b[0;36m10\u001b[0m\u001b[0;34m]\u001b[0m \u001b[0;34m=\u001b[0m \u001b[0;36m255\u001b[0m \u001b[0;31m# linhas verticais\u001b[0m\u001b[0;34m\u001b[0m\u001b[0m\n\u001b[1;32m      5\u001b[0m \u001b[0madshow\u001b[0m\u001b[0;34m(\u001b[0m\u001b[0mf\u001b[0m\u001b[0;34m,\u001b[0m \u001b[0;34m'com reticulado'\u001b[0m\u001b[0;34m)\u001b[0m\u001b[0;34m\u001b[0m\u001b[0m\n",
      "\u001b[0;31mNameError\u001b[0m: name 'adreadgray' is not defined"
     ]
    }
   ],
   "source": [
    "    f = adreadgray('beef.tif')\n",
    "    adshow(f, 'original')\n",
    "    f[::10,:] = 255 # linhas horizontais\n",
    "    f[:,::10] = 255 # linhas verticais\n",
    "    adshow(f, 'com reticulado')"
   ]
  },
  {
   "cell_type": "markdown",
   "metadata": {},
   "source": [
    "## Sobrepondo frame preto na imagem"
   ]
  },
  {
   "cell_type": "code",
   "execution_count": null,
   "metadata": {
    "collapsed": true
   },
   "outputs": [],
   "source": [
    "    f = adreadgray('leaf.tif')\n",
    "    adshow(f, 'original')\n",
    "    f[   :10,   :  ] = 0 # frame superior\n",
    "    f[-10:  ,   :  ] = 0 # frame inferior\n",
    "    f[   :  ,   :10] = 0 # frame esquerdo\n",
    "    f[   :  ,-10:  ] = 0 # frame direito\n",
    "    adshow(f, 'com frame de 10 pixels de espessura')"
   ]
  },
  {
   "cell_type": "markdown",
   "metadata": {},
   "source": [
    "## Rotação 90 graus\n",
    "\n",
    "Uma técnica simples para se fazer uma rotação antihorária da matriz, é calcular a matriz transposta e depois\n",
    "refleti-la na vertical:"
   ]
  },
  {
   "cell_type": "code",
   "execution_count": null,
   "metadata": {
    "collapsed": true
   },
   "outputs": [],
   "source": [
    "    f= adreadgray('cameraman.tif')[:,64:192]\n",
    "    adshow(f, 'original shape=%s' % (f.shape,))\n",
    "    g = f.transpose()\n",
    "    adshow(g, 'transposta shape=%s' % (g.shape,))\n",
    "    adshow(g[::-1,:], 'reflete na vertical')"
   ]
  },
  {
   "cell_type": "markdown",
   "metadata": {},
   "source": [
    "## Subamostragem"
   ]
  },
  {
   "cell_type": "markdown",
   "metadata": {},
   "source": [
    "    f = adreadgray('cameraman.tif')\n",
    "    adshow(f, 'shape=%s' % (f.shape,) )\n",
    "    g = f[::2,::2]\n",
    "    adshow(g, 'shape=%s' % (g.shape,) )"
   ]
  },
  {
   "cell_type": "markdown",
   "metadata": {},
   "source": [
    "## Ampliação"
   ]
  },
  {
   "cell_type": "markdown",
   "metadata": {},
   "source": [
    "    import numpy as np\n",
    "    \n",
    "    f = adreadgray('gear.tif')\n",
    "    adshow(f, 'original %s' % (f.shape,) )\n",
    "    H,W = f.shape\n",
    "    g = np.zeros( (2*H,2*W), 'uint8')\n",
    "    g[ ::2, ::2] = f\n",
    "    g[1::2, ::2] = f\n",
    "    g[1::2,1::2] = f\n",
    "    g[ ::2,1::2] = f\n",
    "    adshow(g, 'ampliada por replicação %s' % (g.shape,) )"
   ]
  },
  {
   "cell_type": "markdown",
   "metadata": {},
   "source": [
    "## Separando campos pares e impares entrelaçados"
   ]
  },
  {
   "cell_type": "code",
   "execution_count": null,
   "metadata": {
    "collapsed": true
   },
   "outputs": [],
   "source": [
    "    f = adreadgray('tvframe.pgm')\n",
    "    adshow(f, 'original com dois campos')\n",
    "\n",
    "    g_even = np.zeros_like(f)\n",
    "    g_even[::2] = f[::2]\n",
    "    g_even[1::2] = f[::2]\n",
    "    adshow(g_even, 'campo linhas pares')\n",
    "\n",
    "    g_odd = zeros_like(f)\n",
    "    g_odd[::2]  = f[1::2]\n",
    "    g_odd[1::2] = f[1::2]\n",
    "    adshow(g_odd, 'campo linhas ímpares')"
   ]
  },
  {
   "cell_type": "markdown",
   "metadata": {},
   "source": [
    "## Combinando duas imagens linhas pares de uma e ímpares de outra"
   ]
  },
  {
   "cell_type": "code",
   "execution_count": null,
   "metadata": {
    "collapsed": true
   },
   "outputs": [],
   "source": [
    "    f1 = adreadgray('bloodcells.tif')\n",
    "    f2 = adreadgray('mribrain.tif')\n",
    "    adshow(f1, 'f1: bloodcells')\n",
    "    adshow(f2, 'f2: mribrain')\n",
    "    g = np.array(f1)\n",
    "    g[::2] = f2[::2]\n",
    "    adshow(g, 'linhas ímpares de f1 e pares de f2')"
   ]
  },
  {
   "cell_type": "markdown",
   "metadata": {},
   "source": [
    "## Montagem e reflexão vertical e horizontal"
   ]
  },
  {
   "cell_type": "code",
   "execution_count": null,
   "metadata": {
    "collapsed": true
   },
   "outputs": [],
   "source": [
    "    f = adreadgray('unilogo.tif')\n",
    "    adshow(f, 'original')\n",
    "    H,W = f.shape\n",
    "    g = np.zeros( (2*H,2*W), 'uint8')\n",
    "    g[:H,:W] = f          # original no quadrante superior esquerdo\n",
    "    g[H:,:W] = f[::-1,:]  # refletida vertical no quadrante inferior esquerdo\n",
    "    g[:H,W:] = f[:,::-1]  # refletida horizontal no quadrante superior direito\n",
    "    g[H:,W:] = f[::-1,::-1] # refletida vert. e hor. no quadrante inferior direito\n",
    "    adshow(g, 'refletidas')"
   ]
  },
  {
   "cell_type": "markdown",
   "metadata": {},
   "source": [
    "## Translação\n",
    "\n",
    "Uma operação primitiva que é utilizada na construção de várias outras operações é\n",
    "a translação de uma imagem por um fator de deslocamento na vertical e na horizontal.\n",
    "Numpy permite fazer translações extremamente eficientes utilizando fatiamento. O \n",
    "exemplo abaixo, a imagem **g** é deslocada de (dH,dW)."
   ]
  },
  {
   "cell_type": "markdown",
   "metadata": {},
   "source": [
    "    f = np.zeros((300,400),'uint8')\n",
    "    f[::10,:] = 255\n",
    "    f[:,::10] = 255\n",
    "    adshow(f, 'reticulado de passo 10 pixels')\n",
    "    g = adreadgray('boxdrill-A.tif')\n",
    "    H,W = g.shape\n",
    "    f[:H,:W] = g\n",
    "    adshow(f, 'imagem g na origem (0,0)')\n",
    "    dH,dW = (50,100)\n",
    "    f[dH:H+dH,dW:W+dW] = g\n",
    "    adshow(f, 'imagem g deslocada por (%d,%d)' % (dH,dW))"
   ]
  },
  {
   "cell_type": "markdown",
   "metadata": {},
   "source": [
    "## Outros exemplos\n",
    "\n",
    "- `ia636:iaprofiledemo` - Ilustração para observar valores de cinza linha vertical na imagem"
   ]
  }
 ],
 "metadata": {
  "kernelspec": {
   "display_name": "Python 3",
   "language": "python",
   "name": "python3"
  },
  "language_info": {
   "codemirror_mode": {
    "name": "ipython",
    "version": 3
   },
   "file_extension": ".py",
   "mimetype": "text/x-python",
   "name": "python",
   "nbconvert_exporter": "python",
   "pygments_lexer": "ipython3",
   "version": "3.6.0"
  },
  "toc": {
   "colors": {
    "hover_highlight": "#DAA520",
    "running_highlight": "#FF0000",
    "selected_highlight": "#FFD700"
   },
   "moveMenuLeft": true,
   "nav_menu": {
    "height": "208px",
    "width": "252px"
   },
   "navigate_menu": true,
   "number_sections": true,
   "sideBar": true,
   "threshold": 4,
   "toc_cell": false,
   "toc_section_display": "block",
   "toc_window_display": true
  }
 },
 "nbformat": 4,
 "nbformat_minor": 2
}
