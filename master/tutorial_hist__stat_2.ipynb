{
 "cells": [
  {
   "cell_type": "markdown",
   "metadata": {},
   "source": [
    "# Histograma e suas estatísticas\n",
    "\n",
    "O histograma de uma imagem em tons de cinza é uma medida estatística que indica o número de ocorrências de um determinado\n",
    "nível de cinza na imagem. Na toolbox ia636 existe a função `ia636:iahistogram` que calcula o histograma a partir de uma\n",
    "imagem em níveis de cinza. Ela utiliza a função \"bincount\" do NumPy. Não é fácil desenvolver uma função em Python/NumPy \n",
    "que seja eficiente para calcular o histograma. Uma implementação simples de entender que porém não é eficiente é a \"iahistogram_eq\" que está em `ia636:iahistogram`. \n",
    "É necessário fazer um laço explícito em todos os níveis de cinza e para contar quantas pixels possuem aquele nível de cinza. \n",
    "No final da página do `ia636:iahistogram` tem uma comparação de tempos das duas funções.\n",
    "\n",
    "Veja a seguir o código Python/NumPy para se calcular e mostrar o histograma no Adessowiki. O histograma é\n",
    "um vetor unidimensional e é normalmente visualizado no Adessowiki utilizando a função \"iaplot\" que a prepara para ser mostrada via \"adshow\".\n",
    "As figuras abaixo mostram a imagem 'cameraman', juntamente com seu histograma."
   ]
  },
  {
   "cell_type": "markdown",
   "metadata": {},
   "source": [
    "### Lê e mostra a imagem"
   ]
  },
  {
   "cell_type": "code",
   "execution_count": null,
   "metadata": {
    "collapsed": true
   },
   "outputs": [],
   "source": [
    "f = adreadgray('cameraman.tif')  \n",
    "adshow(f,'Imagem f: \"cameraman.tif\"')\n",
    "\n",
    "h = ia.iahistogram(f)\n",
    "adshow(ia.iaplot(h, ylabel='n. de pixels', xlabel='niveis de cinza'), 'histograma de f')"
   ]
  },
  {
   "cell_type": "markdown",
   "metadata": {},
   "source": [
    "Analisando-se o histograma da imagem cameraman, observa-se que existe uma grande quantidade de pixels com valores\n",
    "escuros. Eles correspondem ao paletó do cameraman.\n",
    "\n",
    "Ao se calcular o histograma de uma imagem, perde-se a informação da\n",
    "disposição espacial dos seus pixels. Veja por exemplo, se ordenarmos os pixels da imagem cameraman, o seu histograma\n",
    "continuará o mesmo:\n",
    "—"
   ]
  },
  {
   "cell_type": "code",
   "execution_count": null,
   "metadata": {
    "collapsed": true
   },
   "outputs": [],
   "source": [
    "g = np.sort(f,axis=None).reshape(f.shape)\n",
    "adshow(g,'f com pixels ordenados')\n",
    "hg = ia.iahistogram(g)\n",
    "adshow(ia.iaplot(hg, ylabel='n. de pixels', xlabel='niveis de cinza'), 'histogram de f com pixels ordenados')"
   ]
  },
  {
   "cell_type": "markdown",
   "metadata": {},
   "source": [
    "Observe que visualizar a imagem de pixels ordenados é também uma boa forma de perceber a distribuição dos níveis de cinza\n",
    "de uma imagem. Neste caso, observe como existe uma transição razoavelmente abrupta entre a parte mais escura e mais clara.\n",
    "Isto corresponde ao vale no histograma, quanto mais largo for um vale, mais abrupta será a variação entre os níveis de\n",
    "cinza do vale.\n",
    "\n",
    "Nota-se acima que um mesmo histograma existe para duas imagens. Apesar disto, o histograma é uma das medidas que pode\n",
    "caracterizar uma imagem. Muito métodos bens sucedidos de classificação de categorias de imagens são baseados nas informações\n",
    "de seu histograma.\n",
    "\n",
    "Três outras curvas geradas a partir do histograma são importantes: o histograma acumulado, o histograma normalizado e o histograma\n",
    "acumulado normalizado. A normalização ocorre quando divide-se o histograma pelo número de pixels da imagem, fazendo com que\n",
    "a soma dos valores do histograma seja 1.0. O histograma acumulado é dado pela integral do histograma. Veja o\n",
    "cálculo destas três curvas:"
   ]
  },
  {
   "cell_type": "code",
   "execution_count": null,
   "metadata": {
    "collapsed": true
   },
   "outputs": [],
   "source": [
    "hc  = np.cumsum(h)\n",
    "hn  = h.astype(float)/f.size\n",
    "hcn = hc.astype(float)/f.size\n",
    "adshow(ia.iaplot(hc, ylabel='n. de pixels', xlabel='niveis de cinza'), 'histograma acumulado')\n",
    "adshow(ia.iaplot(hn, ylabel='percentagem', xlabel='niveis de cinza'), 'histogram normalizado')\n",
    "adshow(ia.iaplot(hcn, ylabel='percentagem', xlabel='niveis de cinza'), 'hist. acumulado normalizado')"
   ]
  },
  {
   "cell_type": "markdown",
   "metadata": {},
   "source": [
    "A partir do histograma é possível calcular diversas estatísticas da imagem, com a vantagem de não precisar \n",
    "varrer novamente a imagem para o seu cálculo. Veja a função `ia636:iah2stats` que faz o cálculo das seguintes\n",
    "medidas: média, variância, obliquidade, curtose, moda mediana, percentil e entropia."
   ]
  },
  {
   "cell_type": "markdown",
   "metadata": {},
   "source": [
    "##Documentação Oficial Numpy\n",
    "\n",
    "- `http://docs.scipy.org/doc/numpy/reference/generated/numpy.histogram.html#numpy.histogram histogram`\n",
    "- `http://docs.scipy.org/doc/numpy/reference/generated/numpy.bincount.html#numpy.bincount bincount`\n",
    "   \n",
    "\n",
    "## Veja também:\n",
    "\n",
    "- `ia636:iahistogram` Função iahistogram`\n",
    "- `ia636:iaplot` Plot no Adessowiki\n",
    "\n",
    "## Páginas Interessantes\n",
    "\n",
    "- `http://en.wikipedia.org/wiki/Histogram Histogram - Wikipedia`"
   ]
  },
  {
   "cell_type": "code",
   "execution_count": null,
   "metadata": {
    "collapsed": true
   },
   "outputs": [],
   "source": []
  }
 ],
 "metadata": {
  "kernelspec": {
   "display_name": "Python 3",
   "language": "python",
   "name": "python3"
  },
  "language_info": {
   "codemirror_mode": {
    "name": "ipython",
    "version": 3
   },
   "file_extension": ".py",
   "mimetype": "text/x-python",
   "name": "python",
   "nbconvert_exporter": "python",
   "pygments_lexer": "ipython3",
   "version": "3.6.0"
  },
  "toc": {
   "colors": {
    "hover_highlight": "#DAA520",
    "running_highlight": "#FF0000",
    "selected_highlight": "#FFD700"
   },
   "moveMenuLeft": true,
   "nav_menu": {
    "height": "84px",
    "width": "252px"
   },
   "navigate_menu": true,
   "number_sections": true,
   "sideBar": true,
   "threshold": 4,
   "toc_cell": false,
   "toc_section_display": "block",
   "toc_window_display": false
  }
 },
 "nbformat": 4,
 "nbformat_minor": 2
}
